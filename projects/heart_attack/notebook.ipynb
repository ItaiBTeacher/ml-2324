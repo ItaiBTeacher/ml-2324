{
  "cells": [
    {
      "cell_type": "markdown",
      "metadata": {
        "id": "nVx5oq4MGT3E"
      },
      "source": [
        "בס״ד"
      ]
    },
    {
      "cell_type": "markdown",
      "metadata": {
        "id": "T2JMhNPlVP9k"
      },
      "source": [
        "# <span dir=rtl> Heart Attack Prediction </span>"
      ]
    },
    {
      "cell_type": "markdown",
      "metadata": {
        "id": "EdODbcdYs9yx"
      },
      "source": [
        "## <span dir=rtl> שער</span>"
      ]
    },
    {
      "cell_type": "markdown",
      "metadata": {
        "id": "M1Rm_9sUBMsf"
      },
      "source": [
        "### <span dir=rtl> לוגו + שם בית ספר</span>\n"
      ]
    },
    {
      "cell_type": "markdown",
      "metadata": {
        "id": "4eSmIo4EQzLc"
      },
      "source": [
        "<div dir=\"rtl\">\n",
        "<table>\n",
        "  <tr>\n",
        "    <td>\n",
        "      <img src=\"../../shared/pics/school_logo.jpeg\" width=\"150\" />\n",
        "    </td>\n",
        "    <td>\n",
        "      <p>\n",
        "        <b>עירוני ד תל אביב</b>\n",
        "      </p>\n",
        "    </td>\n",
        "  </tr>\n",
        "</table>\n",
        "</div>"
      ]
    },
    {
      "cell_type": "markdown",
      "metadata": {
        "id": "1P5d7QiWFoe0"
      },
      "source": [
        "<span dir=rtl> עירוני ד׳, תל אביב </span>"
      ]
    },
    {
      "cell_type": "markdown",
      "metadata": {
        "id": "78lmzLYWBdWO"
      },
      "source": [
        "### <span dir=rtl> שם התלמידה + ת״ז</span>"
      ]
    },
    {
      "cell_type": "markdown",
      "metadata": {
        "id": "_5NFNeTIF3i7"
      },
      "source": [
        "<span dir=rtl>נועה ענטבי</span>"
      ]
    },
    {
      "cell_type": "markdown",
      "metadata": {
        "id": "JrslCXbUBmku"
      },
      "source": [
        "### <span dir=rtl> שם המחקר</span>"
      ]
    },
    {
      "cell_type": "markdown",
      "metadata": {
        "id": "ApFqXTsdF_TE"
      },
      "source": [
        "<span dir=rtl> נתונים בריאותיים שמצביעים על התקפי לב\n",
        "</span>"
      ]
    },
    {
      "cell_type": "markdown",
      "metadata": {
        "id": "EjrqZ8URBxAf"
      },
      "source": [
        "### <span dir=rtl> שנת לימודים</span>"
      ]
    },
    {
      "cell_type": "markdown",
      "metadata": {
        "id": "zomjg3QyGFc6"
      },
      "source": [
        "<span dir=rtl> 2024 - 2023, תשפ״ד</span>"
      ]
    },
    {
      "cell_type": "markdown",
      "metadata": {
        "id": "UwR2YhFgB02B"
      },
      "source": [
        "### <span dir=rtl> שם המורה</span>"
      ]
    },
    {
      "cell_type": "markdown",
      "metadata": {
        "id": "82D-ZtqvGRDp"
      },
      "source": [
        "<span dir=rtl> איתי בארלי</span>"
      ]
    },
    {
      "cell_type": "markdown",
      "metadata": {
        "id": "f78IQWnpCU-u"
      },
      "source": [
        "## <span dir=rtl> נושא המחקר</span>"
      ]
    },
    {
      "cell_type": "markdown",
      "metadata": {
        "id": "V-Bau4B8ChTB"
      },
      "source": [
        "### <span dir=rtl> הקדמה</span>"
      ]
    },
    {
      "cell_type": "markdown",
      "metadata": {
        "id": "vbau_fe8G7gR"
      },
      "source": [
        "<div dir=\"rtl\">  מחקר זה מתבסס על מאגר נתונים בריאותיים של אוכלוסיית אנשים. הנתונים הללו יכללו מידע דמוגרפי כמו גיל, מגדר, וכד'. בנוסף, יהיו נתונים קליניים עבור כל אדם בטבלה כמו רמת הסוכר בדם (גבוהה או נמוכה), תוצאות אק\"ג במנוחה ועוד. המטרה תהיה לנתח את הנתונים הללו ולפתח מודל לחיזוי שני דברים מרכזיים: הסיכוי של המטופל לחוות התקף לב, וכן את רמת הכאב בחזה (טיפוסית או לא), על פי נתוני הבריאות שלו. ניתוח הנתונים יתבצע באמצעות שיטות לימוד מכונה ומודלים סטטיסטיים. תוצאות המחקר יכולות לסייע באבחון מוקדם ובניהול סיכונים לקראת התקפי לב, וכן לצפות את עוצמת הכאב הצפויה כדי לנהל באופן מיטבי את הטיפול בכאב בקרב מטופלים.\n",
        "\n",
        "\n",
        "</div>\n"
      ]
    },
    {
      "cell_type": "markdown",
      "metadata": {
        "id": "yETDcjVX468m"
      },
      "source": [
        "<img src=\"pics/illustration.png\" />"
      ]
    },
    {
      "cell_type": "markdown",
      "metadata": {
        "id": "EPb2t3mmDFEO"
      },
      "source": [
        "### <span dir=rtl> תמונה הקשורה למאגר</span>"
      ]
    },
    {
      "cell_type": "markdown",
      "metadata": {
        "id": "Gyp9EtDsDKcq"
      },
      "source": [
        "## <span dir=rtl> תיאור הנתונים</span>"
      ]
    },
    {
      "cell_type": "markdown",
      "metadata": {
        "id": "4OI02j_qDQ-I"
      },
      "source": [
        "### <span dir=rtl> תיאור קצר של מאגר הנתונים</span>"
      ]
    },
    {
      "cell_type": "markdown",
      "metadata": {
        "id": "2h6u6TXsHtDR"
      },
      "source": [
        "<div dir=rtl> מערך נתונים זה, המותאם במיוחד למחלות לב, מספק משאב רב ערך להפקת תובנות שמאירות את המשמעות של כל תכונה.\n",
        "</div>"
      ]
    },
    {
      "cell_type": "markdown",
      "metadata": {
        "id": "rLEhCntUDbfa"
      },
      "source": [
        "### <span dir=rtl> פירוט על מקור הנתונים</span>"
      ]
    },
    {
      "cell_type": "markdown",
      "metadata": {
        "id": "pGWQ0dqlIjSS"
      },
      "source": [
        "<span dir=rtl> מערך נתונים זה, שנערך בשנת 1988, כולל מידע מארבעה מוסדי נתונים שונים: קליבלנד, הונגריה, שוויץ ולונג ביץ' V. הוא נלקח מאתר ״kaggle״.\n",
        "</span>"
      ]
    },
    {
      "cell_type": "markdown",
      "metadata": {
        "id": "kGx32f19DloI"
      },
      "source": [
        "### <span dir=rtl> קישור למאגר הנתונים</span>"
      ]
    },
    {
      "cell_type": "markdown",
      "metadata": {
        "id": "Zb-0zgQ2Ixkx"
      },
      "source": [
        "<span dir=rtl> https://www.kaggle.com/datasets/juledz/heart-attack-prediction?resource=download </span>"
      ]
    },
    {
      "cell_type": "markdown",
      "metadata": {
        "id": "qD2gTD2wDRVk"
      },
      "source": [
        "### <span dir=rtl> פירוט על סוגי הנתונים</span>"
      ]
    },
    {
      "cell_type": "markdown",
      "metadata": {
        "id": "PPvVxUPEYNu2"
      },
      "source": [
        "<div dir=rtl> שורות: 1027\n",
        "עמודות וסוגים - ישנן 14 עמודות, 7 נומריות ו - 8 קטגוריאלי.\n",
        "\n",
        "**תיאור העמודות:**\n",
        "\n",
        "**age:** גיל הנבדק - עמודה נומרית\n",
        "\n",
        "**sex:**מין הנבדק - 0 לאישה, 1 לגבר - עמודה קטגוריאלית.\n",
        "\n",
        "**Chest Pain Type:** את סוג כאב החזה. עמודה קטגוריאלית. 0: אנגינה טיפוסית - מצב בו החולה חווה כאב בחזה אופייני לחסימה של עורקים כלליים. 1: אנגינה לא טיפוסית - כאב בחזה שאינו עונה על המאפיינים של אנגינה טיפוסית. 2: כאב לא לבבי - כאב בחזה שאינו קשור ללב. 3: ללא תסמינים - אין כאבים בחזה. אנגינה הגדרה: היא תסמין לבבי המאפיין מחלת עורקים כלילית ומתבטא בכאבים בחזה הנובעים ממחסור באספקת חמצן לשריר הלב.\n",
        "\n",
        "**Resting Blood Pressure:** לחץ דם במנוחה - עמודה נומרית (לדוגמה, 125).\n",
        "\n",
        "**Serum Cholesterol:** כולסטרול בסרום (״serum״ הוא החלק הנוזלי של הדם (פלזמה )שנותר לאחר שתאי הדם והגורמים לקרישה הוסרו. זהו הנוזל שממנו נלקחות תוצאות מרבית בדיקות הדם, כולל ריכוז הכולסטרול). עמודה נומרית.\n",
        "\n",
        "**Fasting Blood Sugar:**  רמות הסוכר בדם, במהלך צום. עמודה קטגוריאלית. נמוך או שווה ל - 120 תייצג הספרה  0, גדול מ - 120 תייצג הספרה 1.\n",
        "\n",
        "**Resting Electrocardiographic Results:** תוצאות אק\"ג במנוחה. עמודה קטגוריאלית.  0 - מצב נורמלי, 1 - לא נורמלי יש סימנים חריגים באק\"ג המעידים על אי-סדירות בפעילות החשמלית של הלב, 2 - היפרטרופיה (הממצאים באק\"ג מראים על הגדלה במבנה חדרי הלב או בעובי דופן השריר, לדוגמא: כתוצאה מיתר לחץ דם)\n",
        "\n",
        "**Maximum Heart Rate Achieved(thalach):** מקסימום דופק. עמודה נומרית. ערך מספרי המייצג את קצב הפעימות הגבוה ביותר של הלב שנמדד במהלך המאמץ הגופני או הבדיקה.\n",
        "\n",
        "**Exercise-Induced Angina:** מתייחס לכאב חזה מסוג אנגינה פקטוריס שמופיע במהלך או לאחר פעילות גופנית/מאמץ. עמודה קטגוריאלית. 1: No - המטופל אינו חווה כאבי חזה מסוג אנגינה במאמץ גופני, 1: Yes - המטופל חווה כאבי חזה מסוג אנגינה במהלך או לאחר פעילות גופנית/מאמץ.\n",
        "   \n",
        "  **:Oldpeak (ST Depression)**\n",
        "ערך מספרי המייצג את מידת הדיכוי או הירידה במקטע ה-ST (מקטע ספציפי) בתרשים האק\"ג. עמודה נומרית. הערך המספרי (0 - 6.2) מייצג את מידת הדיכוי במילימטרים. ככל שהערך גבוה יותר, כך הדיכוי עמוק יותר, מה שמרמז על איסכמיה (חסימה) משמעותית יותר של שריר הלב.\n",
        "\n",
        "**Slope of Peak Exercise ST Segment:** שיפוע של מקטע ה-ST בנקודת השיא של המאמץ (הדופק הכי גבוה) בבדיקת אק\"ג תחת מאמץ (stress test). היא מחולקת לשלוש אפשרויות: 0: Upsloping - מקטע ה-ST עולה כלפי מעלה מקו הבסיס בנקודת השיא של המאמץ. מצב זה נחשב תקין. 1: Flat - מקטע ה-ST ישר ומקביל לקו הבסיס בנקודת השיא. עשוי לרמז על איסכמיה קלה של שריר הלב. 2: Downsloping - מקטע ה-ST יורד מתחת\n",
        "לקו הבסיס (דיכוי ST) בנקודת השיא של המאמץ. מצב זה מרמז על איסכמיה משמעותית של שריר הלב במאמץ. עמודה קטגוריאלית\n",
        "\n",
        "**Number of Major Vessels Colored by Fluoroscopy:** מתייחס למספר העורקים הכליליים הראשיים שהודגמו כבעייתיים (צר או חסום) בבדיקת צנתור לב באמצעות פלואורוסקופיה. 0 = לא נמצאו צרות או חסימות בעורקים הראשיים, 1 = עורק כלילי ראשי אחד הוצג כבעייתית 2 = שני עורקים כליליים ראשיים הוצגו כבעייתיים, 3 = שלושת העורקים הכליליים הראשיים הוצגו כבעייתיים. עמודה קטגרואלית.\n",
        "\n",
        "**Thalassemia:** תלסמיה היא קבוצה של מחלות גנטיות שמשפיעות על ייצור ההמוגלובין - החלבון האחראי על הובלת החמצן בתאי הדם האדומים. הקטגוריה מתייחסת לממצאים מבדיקת דופלר לבבית שבוחנת את זרימת הדם בשריר הלב תחת מאמץ. הקטגוריות הן: 0: Normal - ממצאי הבדיקה תקינים, ללא עדות לליקויים בזרימת הדם לשריר הלב, 1: Fixed Defect - מצאה ליקוי קבוע בזרימת הדם לאזור מסוים בשריר הלב, שקיים הן במנוחה והן במאמץ. עשוי לרמז על נזק קבוע עקב אוטם שריר לב בעבר, 2: Reversible Defect - הליקוי בזרימת הדם לחלק מסוים בשריר הלב נצפה רק במהלך המאמץ אך נעלם לאחר המנוחה, מצב הידוע כאיסכמיה חולפת של שריר הלב. עמודה קטגוריאלית.\n",
        "</div>"
      ]
    },
    {
      "cell_type": "markdown",
      "metadata": {
        "id": "FacOB0c_B-hq"
      },
      "source": [
        "## <span dir=rtl> חקר נתונים</span>"
      ]
    },
    {
      "cell_type": "markdown",
      "metadata": {
        "id": "NgBPtDnJEP35"
      },
      "source": [
        "### <span dir=rtl> טעינת נתונים ותצוגה של נתונים מהמאמר</span>"
      ]
    },
    {
      "cell_type": "markdown",
      "metadata": {
        "id": "ue0H5XT6TCdr"
      },
      "source": [
        "#### <span dir=rtl> ייבוא ספריות</span>"
      ]
    },
    {
      "cell_type": "code",
      "execution_count": 1,
      "metadata": {
        "id": "7cJoaRqmAgiq"
      },
      "outputs": [],
      "source": [
        "import warnings\n",
        "warnings.filterwarnings('ignore', category=FutureWarning)\n"
      ]
    },
    {
      "cell_type": "code",
      "execution_count": 2,
      "metadata": {
        "id": "h56die3UYjVz"
      },
      "outputs": [],
      "source": [
        "import pandas as pd\n",
        "import seaborn as sns\n",
        "import matplotlib.pyplot as plt\n",
        "from sklearn.pipeline import Pipeline\n",
        "from sklearn.neighbors import KNeighborsClassifier\n",
        "from sklearn.svm import SVC\n",
        "from sklearn.preprocessing import MaxAbsScaler, RobustScaler, StandardScaler, MinMaxScaler\n",
        "from sklearn.model_selection import GridSearchCV\n",
        "from sklearn.metrics import accuracy_score\n",
        "from sklearn.metrics import mean_absolute_error\n",
        "import matplotlib.pyplot as plt\n",
        "from sklearn.model_selection import train_test_split\n",
        "from sklearn.metrics import classification_report\n",
        "from matplotlib.colors import LinearSegmentedColormap\n",
        "from sklearn.impute import SimpleImputer\n",
        "from sklearn.compose import ColumnTransformer\n",
        "import sklearn as lrn\n",
        "from feature_engine.outliers import Winsorizer\n",
        "from sklearn.metrics import ConfusionMatrixDisplay, classification_report, \\\n",
        "                            make_scorer, accuracy_score, f1_score, recall_score\n",
        "from os import path"
      ]
    },
    {
      "cell_type": "code",
      "execution_count": 3,
      "metadata": {},
      "outputs": [],
      "source": [
        "import sys\n",
        "sys.path.append('../../')\n",
        "\n",
        "from shared.code import helpers"
      ]
    },
    {
      "cell_type": "markdown",
      "metadata": {
        "id": "-rG-p-mwjXJp"
      },
      "source": [
        "#### <span dir=rtl> טעינת הטבלה </span>"
      ]
    },
    {
      "cell_type": "code",
      "execution_count": 4,
      "metadata": {
        "id": "NnZlyR9wYpnU"
      },
      "outputs": [],
      "source": [
        "df = pd.read_csv('data/static/dataset.csv')"
      ]
    },
    {
      "cell_type": "code",
      "execution_count": 5,
      "metadata": {
        "colab": {
          "base_uri": "https://localhost:8080/",
          "height": 0
        },
        "id": "jBUgd19hYp3m",
        "outputId": "91145c7c-5dbd-411f-b237-8ea2912f872f"
      },
      "outputs": [
        {
          "data": {
            "text/html": [
              "<div>\n",
              "<style scoped>\n",
              "    .dataframe tbody tr th:only-of-type {\n",
              "        vertical-align: middle;\n",
              "    }\n",
              "\n",
              "    .dataframe tbody tr th {\n",
              "        vertical-align: top;\n",
              "    }\n",
              "\n",
              "    .dataframe thead th {\n",
              "        text-align: right;\n",
              "    }\n",
              "</style>\n",
              "<table border=\"1\" class=\"dataframe\">\n",
              "  <thead>\n",
              "    <tr style=\"text-align: right;\">\n",
              "      <th></th>\n",
              "      <th>age</th>\n",
              "      <th>sex</th>\n",
              "      <th>cp</th>\n",
              "      <th>trestbps</th>\n",
              "      <th>chol</th>\n",
              "      <th>fbs</th>\n",
              "      <th>restecg</th>\n",
              "      <th>thalach</th>\n",
              "      <th>exang</th>\n",
              "      <th>oldpeak</th>\n",
              "      <th>slope</th>\n",
              "      <th>ca</th>\n",
              "      <th>thal</th>\n",
              "      <th>target</th>\n",
              "    </tr>\n",
              "  </thead>\n",
              "  <tbody>\n",
              "    <tr>\n",
              "      <th>0</th>\n",
              "      <td>52</td>\n",
              "      <td>1</td>\n",
              "      <td>0</td>\n",
              "      <td>125</td>\n",
              "      <td>212</td>\n",
              "      <td>0</td>\n",
              "      <td>1</td>\n",
              "      <td>168</td>\n",
              "      <td>0</td>\n",
              "      <td>1.0</td>\n",
              "      <td>2</td>\n",
              "      <td>2</td>\n",
              "      <td>3</td>\n",
              "      <td>0.23</td>\n",
              "    </tr>\n",
              "    <tr>\n",
              "      <th>1</th>\n",
              "      <td>53</td>\n",
              "      <td>1</td>\n",
              "      <td>0</td>\n",
              "      <td>140</td>\n",
              "      <td>203</td>\n",
              "      <td>1</td>\n",
              "      <td>0</td>\n",
              "      <td>155</td>\n",
              "      <td>1</td>\n",
              "      <td>3.1</td>\n",
              "      <td>0</td>\n",
              "      <td>0</td>\n",
              "      <td>3</td>\n",
              "      <td>0.37</td>\n",
              "    </tr>\n",
              "    <tr>\n",
              "      <th>2</th>\n",
              "      <td>70</td>\n",
              "      <td>1</td>\n",
              "      <td>0</td>\n",
              "      <td>145</td>\n",
              "      <td>174</td>\n",
              "      <td>0</td>\n",
              "      <td>1</td>\n",
              "      <td>125</td>\n",
              "      <td>1</td>\n",
              "      <td>2.6</td>\n",
              "      <td>0</td>\n",
              "      <td>0</td>\n",
              "      <td>3</td>\n",
              "      <td>0.24</td>\n",
              "    </tr>\n",
              "    <tr>\n",
              "      <th>3</th>\n",
              "      <td>61</td>\n",
              "      <td>1</td>\n",
              "      <td>0</td>\n",
              "      <td>148</td>\n",
              "      <td>203</td>\n",
              "      <td>0</td>\n",
              "      <td>1</td>\n",
              "      <td>161</td>\n",
              "      <td>0</td>\n",
              "      <td>0.0</td>\n",
              "      <td>2</td>\n",
              "      <td>1</td>\n",
              "      <td>3</td>\n",
              "      <td>0.28</td>\n",
              "    </tr>\n",
              "    <tr>\n",
              "      <th>4</th>\n",
              "      <td>62</td>\n",
              "      <td>0</td>\n",
              "      <td>0</td>\n",
              "      <td>138</td>\n",
              "      <td>294</td>\n",
              "      <td>1</td>\n",
              "      <td>1</td>\n",
              "      <td>106</td>\n",
              "      <td>0</td>\n",
              "      <td>1.9</td>\n",
              "      <td>1</td>\n",
              "      <td>3</td>\n",
              "      <td>2</td>\n",
              "      <td>0.21</td>\n",
              "    </tr>\n",
              "    <tr>\n",
              "      <th>...</th>\n",
              "      <td>...</td>\n",
              "      <td>...</td>\n",
              "      <td>...</td>\n",
              "      <td>...</td>\n",
              "      <td>...</td>\n",
              "      <td>...</td>\n",
              "      <td>...</td>\n",
              "      <td>...</td>\n",
              "      <td>...</td>\n",
              "      <td>...</td>\n",
              "      <td>...</td>\n",
              "      <td>...</td>\n",
              "      <td>...</td>\n",
              "      <td>...</td>\n",
              "    </tr>\n",
              "    <tr>\n",
              "      <th>1020</th>\n",
              "      <td>59</td>\n",
              "      <td>1</td>\n",
              "      <td>1</td>\n",
              "      <td>140</td>\n",
              "      <td>221</td>\n",
              "      <td>0</td>\n",
              "      <td>1</td>\n",
              "      <td>164</td>\n",
              "      <td>1</td>\n",
              "      <td>0.0</td>\n",
              "      <td>2</td>\n",
              "      <td>0</td>\n",
              "      <td>2</td>\n",
              "      <td>0.85</td>\n",
              "    </tr>\n",
              "    <tr>\n",
              "      <th>1021</th>\n",
              "      <td>60</td>\n",
              "      <td>1</td>\n",
              "      <td>0</td>\n",
              "      <td>125</td>\n",
              "      <td>258</td>\n",
              "      <td>0</td>\n",
              "      <td>0</td>\n",
              "      <td>141</td>\n",
              "      <td>1</td>\n",
              "      <td>2.8</td>\n",
              "      <td>1</td>\n",
              "      <td>1</td>\n",
              "      <td>3</td>\n",
              "      <td>0.40</td>\n",
              "    </tr>\n",
              "    <tr>\n",
              "      <th>1022</th>\n",
              "      <td>47</td>\n",
              "      <td>1</td>\n",
              "      <td>0</td>\n",
              "      <td>110</td>\n",
              "      <td>275</td>\n",
              "      <td>0</td>\n",
              "      <td>0</td>\n",
              "      <td>118</td>\n",
              "      <td>1</td>\n",
              "      <td>1.0</td>\n",
              "      <td>1</td>\n",
              "      <td>1</td>\n",
              "      <td>2</td>\n",
              "      <td>0.15</td>\n",
              "    </tr>\n",
              "    <tr>\n",
              "      <th>1023</th>\n",
              "      <td>50</td>\n",
              "      <td>0</td>\n",
              "      <td>0</td>\n",
              "      <td>110</td>\n",
              "      <td>254</td>\n",
              "      <td>0</td>\n",
              "      <td>0</td>\n",
              "      <td>159</td>\n",
              "      <td>0</td>\n",
              "      <td>0.0</td>\n",
              "      <td>2</td>\n",
              "      <td>0</td>\n",
              "      <td>2</td>\n",
              "      <td>0.82</td>\n",
              "    </tr>\n",
              "    <tr>\n",
              "      <th>1024</th>\n",
              "      <td>54</td>\n",
              "      <td>1</td>\n",
              "      <td>0</td>\n",
              "      <td>120</td>\n",
              "      <td>188</td>\n",
              "      <td>0</td>\n",
              "      <td>1</td>\n",
              "      <td>113</td>\n",
              "      <td>0</td>\n",
              "      <td>1.4</td>\n",
              "      <td>1</td>\n",
              "      <td>1</td>\n",
              "      <td>3</td>\n",
              "      <td>0.39</td>\n",
              "    </tr>\n",
              "  </tbody>\n",
              "</table>\n",
              "<p>1025 rows × 14 columns</p>\n",
              "</div>"
            ],
            "text/plain": [
              "      age  sex  cp  trestbps  chol  fbs  restecg  thalach  exang  oldpeak  \\\n",
              "0      52    1   0       125   212    0        1      168      0      1.0   \n",
              "1      53    1   0       140   203    1        0      155      1      3.1   \n",
              "2      70    1   0       145   174    0        1      125      1      2.6   \n",
              "3      61    1   0       148   203    0        1      161      0      0.0   \n",
              "4      62    0   0       138   294    1        1      106      0      1.9   \n",
              "...   ...  ...  ..       ...   ...  ...      ...      ...    ...      ...   \n",
              "1020   59    1   1       140   221    0        1      164      1      0.0   \n",
              "1021   60    1   0       125   258    0        0      141      1      2.8   \n",
              "1022   47    1   0       110   275    0        0      118      1      1.0   \n",
              "1023   50    0   0       110   254    0        0      159      0      0.0   \n",
              "1024   54    1   0       120   188    0        1      113      0      1.4   \n",
              "\n",
              "      slope  ca  thal  target  \n",
              "0         2   2     3    0.23  \n",
              "1         0   0     3    0.37  \n",
              "2         0   0     3    0.24  \n",
              "3         2   1     3    0.28  \n",
              "4         1   3     2    0.21  \n",
              "...     ...  ..   ...     ...  \n",
              "1020      2   0     2    0.85  \n",
              "1021      1   1     3    0.40  \n",
              "1022      1   1     2    0.15  \n",
              "1023      2   0     2    0.82  \n",
              "1024      1   1     3    0.39  \n",
              "\n",
              "[1025 rows x 14 columns]"
            ]
          },
          "execution_count": 5,
          "metadata": {},
          "output_type": "execute_result"
        }
      ],
      "source": [
        "df"
      ]
    },
    {
      "cell_type": "markdown",
      "metadata": {
        "id": "LiQ0Qq8_sYlz"
      },
      "source": [
        "#### <span dir=rtl> הפיכת עמודת החיזוי לעמודה קטגרויאלית - סבירות נמוכה, סבירות בינונית, סבירות גבוהה</span>"
      ]
    },
    {
      "cell_type": "code",
      "execution_count": 6,
      "metadata": {
        "colab": {
          "base_uri": "https://localhost:8080/"
        },
        "id": "2EZ11X_4O-13",
        "outputId": "bcb135d4-a8ba-4711-f6de-f9f15a97df16"
      },
      "outputs": [
        {
          "name": "stdout",
          "output_type": "stream",
          "text": [
            "[0 1 2]\n",
            "[0.1  0.31 0.78 0.9 ]\n"
          ]
        }
      ],
      "source": [
        "# המרת הערכים לקטגוריות\n",
        "df['target'], bins = pd.qcut(x=df['target'], q=3, retbins=True, labels=False)\n",
        "\n",
        "# הדפסת הערכים הייחודיים של התוויות לאחר ההמרה\n",
        "print(df['target'].unique())\n",
        "\n",
        "# הדפסת הגבולות בין הקטגוריות\n",
        "print(bins)\n"
      ]
    },
    {
      "cell_type": "code",
      "execution_count": 7,
      "metadata": {
        "colab": {
          "base_uri": "https://localhost:8080/",
          "height": 0
        },
        "id": "Mpkml0UTsZAf",
        "outputId": "676a9e1f-f70f-4902-e88a-fd9bb7903109"
      },
      "outputs": [
        {
          "data": {
            "text/html": [
              "<div>\n",
              "<style scoped>\n",
              "    .dataframe tbody tr th:only-of-type {\n",
              "        vertical-align: middle;\n",
              "    }\n",
              "\n",
              "    .dataframe tbody tr th {\n",
              "        vertical-align: top;\n",
              "    }\n",
              "\n",
              "    .dataframe thead th {\n",
              "        text-align: right;\n",
              "    }\n",
              "</style>\n",
              "<table border=\"1\" class=\"dataframe\">\n",
              "  <thead>\n",
              "    <tr style=\"text-align: right;\">\n",
              "      <th></th>\n",
              "      <th>age</th>\n",
              "      <th>sex</th>\n",
              "      <th>cp</th>\n",
              "      <th>trestbps</th>\n",
              "      <th>chol</th>\n",
              "      <th>fbs</th>\n",
              "      <th>restecg</th>\n",
              "      <th>thalach</th>\n",
              "      <th>exang</th>\n",
              "      <th>oldpeak</th>\n",
              "      <th>slope</th>\n",
              "      <th>ca</th>\n",
              "      <th>thal</th>\n",
              "      <th>target</th>\n",
              "    </tr>\n",
              "  </thead>\n",
              "  <tbody>\n",
              "    <tr>\n",
              "      <th>0</th>\n",
              "      <td>52</td>\n",
              "      <td>1</td>\n",
              "      <td>0</td>\n",
              "      <td>125</td>\n",
              "      <td>212</td>\n",
              "      <td>0</td>\n",
              "      <td>1</td>\n",
              "      <td>168</td>\n",
              "      <td>0</td>\n",
              "      <td>1.0</td>\n",
              "      <td>2</td>\n",
              "      <td>2</td>\n",
              "      <td>3</td>\n",
              "      <td>0</td>\n",
              "    </tr>\n",
              "    <tr>\n",
              "      <th>1</th>\n",
              "      <td>53</td>\n",
              "      <td>1</td>\n",
              "      <td>0</td>\n",
              "      <td>140</td>\n",
              "      <td>203</td>\n",
              "      <td>1</td>\n",
              "      <td>0</td>\n",
              "      <td>155</td>\n",
              "      <td>1</td>\n",
              "      <td>3.1</td>\n",
              "      <td>0</td>\n",
              "      <td>0</td>\n",
              "      <td>3</td>\n",
              "      <td>1</td>\n",
              "    </tr>\n",
              "    <tr>\n",
              "      <th>2</th>\n",
              "      <td>70</td>\n",
              "      <td>1</td>\n",
              "      <td>0</td>\n",
              "      <td>145</td>\n",
              "      <td>174</td>\n",
              "      <td>0</td>\n",
              "      <td>1</td>\n",
              "      <td>125</td>\n",
              "      <td>1</td>\n",
              "      <td>2.6</td>\n",
              "      <td>0</td>\n",
              "      <td>0</td>\n",
              "      <td>3</td>\n",
              "      <td>0</td>\n",
              "    </tr>\n",
              "    <tr>\n",
              "      <th>3</th>\n",
              "      <td>61</td>\n",
              "      <td>1</td>\n",
              "      <td>0</td>\n",
              "      <td>148</td>\n",
              "      <td>203</td>\n",
              "      <td>0</td>\n",
              "      <td>1</td>\n",
              "      <td>161</td>\n",
              "      <td>0</td>\n",
              "      <td>0.0</td>\n",
              "      <td>2</td>\n",
              "      <td>1</td>\n",
              "      <td>3</td>\n",
              "      <td>0</td>\n",
              "    </tr>\n",
              "    <tr>\n",
              "      <th>4</th>\n",
              "      <td>62</td>\n",
              "      <td>0</td>\n",
              "      <td>0</td>\n",
              "      <td>138</td>\n",
              "      <td>294</td>\n",
              "      <td>1</td>\n",
              "      <td>1</td>\n",
              "      <td>106</td>\n",
              "      <td>0</td>\n",
              "      <td>1.9</td>\n",
              "      <td>1</td>\n",
              "      <td>3</td>\n",
              "      <td>2</td>\n",
              "      <td>0</td>\n",
              "    </tr>\n",
              "    <tr>\n",
              "      <th>...</th>\n",
              "      <td>...</td>\n",
              "      <td>...</td>\n",
              "      <td>...</td>\n",
              "      <td>...</td>\n",
              "      <td>...</td>\n",
              "      <td>...</td>\n",
              "      <td>...</td>\n",
              "      <td>...</td>\n",
              "      <td>...</td>\n",
              "      <td>...</td>\n",
              "      <td>...</td>\n",
              "      <td>...</td>\n",
              "      <td>...</td>\n",
              "      <td>...</td>\n",
              "    </tr>\n",
              "    <tr>\n",
              "      <th>1020</th>\n",
              "      <td>59</td>\n",
              "      <td>1</td>\n",
              "      <td>1</td>\n",
              "      <td>140</td>\n",
              "      <td>221</td>\n",
              "      <td>0</td>\n",
              "      <td>1</td>\n",
              "      <td>164</td>\n",
              "      <td>1</td>\n",
              "      <td>0.0</td>\n",
              "      <td>2</td>\n",
              "      <td>0</td>\n",
              "      <td>2</td>\n",
              "      <td>2</td>\n",
              "    </tr>\n",
              "    <tr>\n",
              "      <th>1021</th>\n",
              "      <td>60</td>\n",
              "      <td>1</td>\n",
              "      <td>0</td>\n",
              "      <td>125</td>\n",
              "      <td>258</td>\n",
              "      <td>0</td>\n",
              "      <td>0</td>\n",
              "      <td>141</td>\n",
              "      <td>1</td>\n",
              "      <td>2.8</td>\n",
              "      <td>1</td>\n",
              "      <td>1</td>\n",
              "      <td>3</td>\n",
              "      <td>1</td>\n",
              "    </tr>\n",
              "    <tr>\n",
              "      <th>1022</th>\n",
              "      <td>47</td>\n",
              "      <td>1</td>\n",
              "      <td>0</td>\n",
              "      <td>110</td>\n",
              "      <td>275</td>\n",
              "      <td>0</td>\n",
              "      <td>0</td>\n",
              "      <td>118</td>\n",
              "      <td>1</td>\n",
              "      <td>1.0</td>\n",
              "      <td>1</td>\n",
              "      <td>1</td>\n",
              "      <td>2</td>\n",
              "      <td>0</td>\n",
              "    </tr>\n",
              "    <tr>\n",
              "      <th>1023</th>\n",
              "      <td>50</td>\n",
              "      <td>0</td>\n",
              "      <td>0</td>\n",
              "      <td>110</td>\n",
              "      <td>254</td>\n",
              "      <td>0</td>\n",
              "      <td>0</td>\n",
              "      <td>159</td>\n",
              "      <td>0</td>\n",
              "      <td>0.0</td>\n",
              "      <td>2</td>\n",
              "      <td>0</td>\n",
              "      <td>2</td>\n",
              "      <td>2</td>\n",
              "    </tr>\n",
              "    <tr>\n",
              "      <th>1024</th>\n",
              "      <td>54</td>\n",
              "      <td>1</td>\n",
              "      <td>0</td>\n",
              "      <td>120</td>\n",
              "      <td>188</td>\n",
              "      <td>0</td>\n",
              "      <td>1</td>\n",
              "      <td>113</td>\n",
              "      <td>0</td>\n",
              "      <td>1.4</td>\n",
              "      <td>1</td>\n",
              "      <td>1</td>\n",
              "      <td>3</td>\n",
              "      <td>1</td>\n",
              "    </tr>\n",
              "  </tbody>\n",
              "</table>\n",
              "<p>1025 rows × 14 columns</p>\n",
              "</div>"
            ],
            "text/plain": [
              "      age  sex  cp  trestbps  chol  fbs  restecg  thalach  exang  oldpeak  \\\n",
              "0      52    1   0       125   212    0        1      168      0      1.0   \n",
              "1      53    1   0       140   203    1        0      155      1      3.1   \n",
              "2      70    1   0       145   174    0        1      125      1      2.6   \n",
              "3      61    1   0       148   203    0        1      161      0      0.0   \n",
              "4      62    0   0       138   294    1        1      106      0      1.9   \n",
              "...   ...  ...  ..       ...   ...  ...      ...      ...    ...      ...   \n",
              "1020   59    1   1       140   221    0        1      164      1      0.0   \n",
              "1021   60    1   0       125   258    0        0      141      1      2.8   \n",
              "1022   47    1   0       110   275    0        0      118      1      1.0   \n",
              "1023   50    0   0       110   254    0        0      159      0      0.0   \n",
              "1024   54    1   0       120   188    0        1      113      0      1.4   \n",
              "\n",
              "      slope  ca  thal  target  \n",
              "0         2   2     3       0  \n",
              "1         0   0     3       1  \n",
              "2         0   0     3       0  \n",
              "3         2   1     3       0  \n",
              "4         1   3     2       0  \n",
              "...     ...  ..   ...     ...  \n",
              "1020      2   0     2       2  \n",
              "1021      1   1     3       1  \n",
              "1022      1   1     2       0  \n",
              "1023      2   0     2       2  \n",
              "1024      1   1     3       1  \n",
              "\n",
              "[1025 rows x 14 columns]"
            ]
          },
          "execution_count": 7,
          "metadata": {},
          "output_type": "execute_result"
        }
      ],
      "source": [
        "df"
      ]
    },
    {
      "cell_type": "markdown",
      "metadata": {
        "id": "yOHA_fWTElgw"
      },
      "source": [
        "#### <span dir=rtl> הצגת נתונים על המאגר</span>"
      ]
    },
    {
      "cell_type": "code",
      "execution_count": 8,
      "metadata": {
        "colab": {
          "base_uri": "https://localhost:8080/"
        },
        "id": "PQPRJbpM64tF",
        "outputId": "f2f4cf9c-6cc3-4710-8561-01de2e4f96d1"
      },
      "outputs": [
        {
          "name": "stdout",
          "output_type": "stream",
          "text": [
            "<class 'pandas.core.frame.DataFrame'>\n",
            "RangeIndex: 1025 entries, 0 to 1024\n",
            "Data columns (total 14 columns):\n",
            " #   Column    Non-Null Count  Dtype  \n",
            "---  ------    --------------  -----  \n",
            " 0   age       1025 non-null   int64  \n",
            " 1   sex       1025 non-null   int64  \n",
            " 2   cp        1025 non-null   int64  \n",
            " 3   trestbps  1025 non-null   int64  \n",
            " 4   chol      1025 non-null   int64  \n",
            " 5   fbs       1025 non-null   int64  \n",
            " 6   restecg   1025 non-null   int64  \n",
            " 7   thalach   1025 non-null   int64  \n",
            " 8   exang     1025 non-null   int64  \n",
            " 9   oldpeak   1025 non-null   float64\n",
            " 10  slope     1025 non-null   int64  \n",
            " 11  ca        1025 non-null   int64  \n",
            " 12  thal      1025 non-null   int64  \n",
            " 13  target    1025 non-null   int64  \n",
            "dtypes: float64(1), int64(13)\n",
            "memory usage: 112.2 KB\n"
          ]
        }
      ],
      "source": [
        "df.info()"
      ]
    },
    {
      "cell_type": "markdown",
      "metadata": {
        "id": "knFC-fhDc2a5"
      },
      "source": [
        "<span dir=rtl> בחלק זה, בדקתי האם קיימים ערכים חסרים בטבלה - המתודה info.  ניתן לראות על פי הטבלה שאין ערכים חסרים באף אחת מן העמודות.</span>"
      ]
    },
    {
      "cell_type": "code",
      "execution_count": 9,
      "metadata": {
        "id": "1vjcRYqARSOY"
      },
      "outputs": [],
      "source": [
        "X = df.drop(\"target\", axis = 1)\n",
        "y = df['target'].copy()\n",
        "X_train, X_test, y_train, y_test = train_test_split(X, y, test_size=0.2, random_state=42)"
      ]
    },
    {
      "cell_type": "markdown",
      "metadata": {
        "id": "B6dCUp_dEp_J"
      },
      "source": [
        "### <span dir=rtl> תיאור נתונים - describe</span>"
      ]
    },
    {
      "cell_type": "code",
      "execution_count": 10,
      "metadata": {
        "colab": {
          "base_uri": "https://localhost:8080/",
          "height": 0
        },
        "id": "YcNwCutUZ8z6",
        "outputId": "abc067d1-a94d-4de5-87ed-3208ebfa4c05"
      },
      "outputs": [
        {
          "data": {
            "text/html": [
              "<div>\n",
              "<style scoped>\n",
              "    .dataframe tbody tr th:only-of-type {\n",
              "        vertical-align: middle;\n",
              "    }\n",
              "\n",
              "    .dataframe tbody tr th {\n",
              "        vertical-align: top;\n",
              "    }\n",
              "\n",
              "    .dataframe thead th {\n",
              "        text-align: right;\n",
              "    }\n",
              "</style>\n",
              "<table border=\"1\" class=\"dataframe\">\n",
              "  <thead>\n",
              "    <tr style=\"text-align: right;\">\n",
              "      <th></th>\n",
              "      <th>age</th>\n",
              "      <th>sex</th>\n",
              "      <th>cp</th>\n",
              "      <th>trestbps</th>\n",
              "      <th>chol</th>\n",
              "      <th>fbs</th>\n",
              "      <th>restecg</th>\n",
              "      <th>thalach</th>\n",
              "      <th>exang</th>\n",
              "      <th>oldpeak</th>\n",
              "      <th>slope</th>\n",
              "      <th>ca</th>\n",
              "      <th>thal</th>\n",
              "    </tr>\n",
              "  </thead>\n",
              "  <tbody>\n",
              "    <tr>\n",
              "      <th>count</th>\n",
              "      <td>820.000000</td>\n",
              "      <td>820.000000</td>\n",
              "      <td>820.000000</td>\n",
              "      <td>820.000000</td>\n",
              "      <td>820.000000</td>\n",
              "      <td>820.000000</td>\n",
              "      <td>820.000000</td>\n",
              "      <td>820.000000</td>\n",
              "      <td>820.000000</td>\n",
              "      <td>820.000000</td>\n",
              "      <td>820.000000</td>\n",
              "      <td>820.000000</td>\n",
              "      <td>820.000000</td>\n",
              "    </tr>\n",
              "    <tr>\n",
              "      <th>mean</th>\n",
              "      <td>54.367073</td>\n",
              "      <td>0.700000</td>\n",
              "      <td>0.952439</td>\n",
              "      <td>131.724390</td>\n",
              "      <td>245.051220</td>\n",
              "      <td>0.146341</td>\n",
              "      <td>0.519512</td>\n",
              "      <td>149.351220</td>\n",
              "      <td>0.345122</td>\n",
              "      <td>1.040244</td>\n",
              "      <td>1.389024</td>\n",
              "      <td>0.751220</td>\n",
              "      <td>2.329268</td>\n",
              "    </tr>\n",
              "    <tr>\n",
              "      <th>std</th>\n",
              "      <td>9.166917</td>\n",
              "      <td>0.458537</td>\n",
              "      <td>1.039598</td>\n",
              "      <td>17.618454</td>\n",
              "      <td>49.668373</td>\n",
              "      <td>0.353664</td>\n",
              "      <td>0.528420</td>\n",
              "      <td>22.927684</td>\n",
              "      <td>0.475698</td>\n",
              "      <td>1.141124</td>\n",
              "      <td>0.608147</td>\n",
              "      <td>1.036129</td>\n",
              "      <td>0.604317</td>\n",
              "    </tr>\n",
              "    <tr>\n",
              "      <th>min</th>\n",
              "      <td>29.000000</td>\n",
              "      <td>0.000000</td>\n",
              "      <td>0.000000</td>\n",
              "      <td>94.000000</td>\n",
              "      <td>126.000000</td>\n",
              "      <td>0.000000</td>\n",
              "      <td>0.000000</td>\n",
              "      <td>71.000000</td>\n",
              "      <td>0.000000</td>\n",
              "      <td>0.000000</td>\n",
              "      <td>0.000000</td>\n",
              "      <td>0.000000</td>\n",
              "      <td>0.000000</td>\n",
              "    </tr>\n",
              "    <tr>\n",
              "      <th>25%</th>\n",
              "      <td>47.000000</td>\n",
              "      <td>0.000000</td>\n",
              "      <td>0.000000</td>\n",
              "      <td>120.000000</td>\n",
              "      <td>211.000000</td>\n",
              "      <td>0.000000</td>\n",
              "      <td>0.000000</td>\n",
              "      <td>132.000000</td>\n",
              "      <td>0.000000</td>\n",
              "      <td>0.000000</td>\n",
              "      <td>1.000000</td>\n",
              "      <td>0.000000</td>\n",
              "      <td>2.000000</td>\n",
              "    </tr>\n",
              "    <tr>\n",
              "      <th>50%</th>\n",
              "      <td>56.000000</td>\n",
              "      <td>1.000000</td>\n",
              "      <td>1.000000</td>\n",
              "      <td>130.000000</td>\n",
              "      <td>240.000000</td>\n",
              "      <td>0.000000</td>\n",
              "      <td>1.000000</td>\n",
              "      <td>152.000000</td>\n",
              "      <td>0.000000</td>\n",
              "      <td>0.800000</td>\n",
              "      <td>1.000000</td>\n",
              "      <td>0.000000</td>\n",
              "      <td>2.000000</td>\n",
              "    </tr>\n",
              "    <tr>\n",
              "      <th>75%</th>\n",
              "      <td>61.000000</td>\n",
              "      <td>1.000000</td>\n",
              "      <td>2.000000</td>\n",
              "      <td>140.000000</td>\n",
              "      <td>274.000000</td>\n",
              "      <td>0.000000</td>\n",
              "      <td>1.000000</td>\n",
              "      <td>166.250000</td>\n",
              "      <td>1.000000</td>\n",
              "      <td>1.650000</td>\n",
              "      <td>2.000000</td>\n",
              "      <td>1.000000</td>\n",
              "      <td>3.000000</td>\n",
              "    </tr>\n",
              "    <tr>\n",
              "      <th>max</th>\n",
              "      <td>77.000000</td>\n",
              "      <td>1.000000</td>\n",
              "      <td>3.000000</td>\n",
              "      <td>200.000000</td>\n",
              "      <td>564.000000</td>\n",
              "      <td>1.000000</td>\n",
              "      <td>2.000000</td>\n",
              "      <td>202.000000</td>\n",
              "      <td>1.000000</td>\n",
              "      <td>6.200000</td>\n",
              "      <td>2.000000</td>\n",
              "      <td>4.000000</td>\n",
              "      <td>3.000000</td>\n",
              "    </tr>\n",
              "  </tbody>\n",
              "</table>\n",
              "</div>"
            ],
            "text/plain": [
              "              age         sex          cp    trestbps        chol         fbs  \\\n",
              "count  820.000000  820.000000  820.000000  820.000000  820.000000  820.000000   \n",
              "mean    54.367073    0.700000    0.952439  131.724390  245.051220    0.146341   \n",
              "std      9.166917    0.458537    1.039598   17.618454   49.668373    0.353664   \n",
              "min     29.000000    0.000000    0.000000   94.000000  126.000000    0.000000   \n",
              "25%     47.000000    0.000000    0.000000  120.000000  211.000000    0.000000   \n",
              "50%     56.000000    1.000000    1.000000  130.000000  240.000000    0.000000   \n",
              "75%     61.000000    1.000000    2.000000  140.000000  274.000000    0.000000   \n",
              "max     77.000000    1.000000    3.000000  200.000000  564.000000    1.000000   \n",
              "\n",
              "          restecg     thalach       exang     oldpeak       slope          ca  \\\n",
              "count  820.000000  820.000000  820.000000  820.000000  820.000000  820.000000   \n",
              "mean     0.519512  149.351220    0.345122    1.040244    1.389024    0.751220   \n",
              "std      0.528420   22.927684    0.475698    1.141124    0.608147    1.036129   \n",
              "min      0.000000   71.000000    0.000000    0.000000    0.000000    0.000000   \n",
              "25%      0.000000  132.000000    0.000000    0.000000    1.000000    0.000000   \n",
              "50%      1.000000  152.000000    0.000000    0.800000    1.000000    0.000000   \n",
              "75%      1.000000  166.250000    1.000000    1.650000    2.000000    1.000000   \n",
              "max      2.000000  202.000000    1.000000    6.200000    2.000000    4.000000   \n",
              "\n",
              "             thal  \n",
              "count  820.000000  \n",
              "mean     2.329268  \n",
              "std      0.604317  \n",
              "min      0.000000  \n",
              "25%      2.000000  \n",
              "50%      2.000000  \n",
              "75%      3.000000  \n",
              "max      3.000000  "
            ]
          },
          "execution_count": 10,
          "metadata": {},
          "output_type": "execute_result"
        }
      ],
      "source": [
        "X_train.describe()"
      ]
    },
    {
      "cell_type": "markdown",
      "metadata": {
        "id": "qMKPxOZXeTrb"
      },
      "source": [
        "<div dir=rtl> מהנתונים עולה כי מדובר באוכלוסיית מטופלים בגיל מבוגר עם ממוצע גיל של כ-54 שנים, אך עם מרווח גילאים רחב יחסית כפי שניתן לראות מסטיית התקן הגבוהה - 9 שנים. רובם גברים, וכמעט כולם סבלו מכאבי חזה בצורה כלשהי בהתאם לממוצע הגבוה - 0.94. ממוצע לחץ הדם של 131.6 מצביע על לחץ דם מעט מוגבר בקרב האוכלוסייה. בנוסף, הממוצע של 1.07 בדיכוי השיא של מקטע ה-ST מרמז על איסכמיה קלה-בינונית בשריר הלב בממוצע.\n",
        "</div>"
      ]
    },
    {
      "cell_type": "markdown",
      "metadata": {
        "id": "aTPhaZX9nrMf"
      },
      "source": [
        "#### <span dir=rtl> groupby </span>"
      ]
    },
    {
      "cell_type": "code",
      "execution_count": 11,
      "metadata": {
        "colab": {
          "base_uri": "https://localhost:8080/"
        },
        "id": "YXpsiIaFnyGS",
        "outputId": "0f23b17c-9e2a-4880-fb08-d3d0088ccb31"
      },
      "outputs": [
        {
          "data": {
            "text/plain": [
              "sex\n",
              "0    55.536585\n",
              "1    53.865854\n",
              "Name: age, dtype: float64"
            ]
          },
          "execution_count": 11,
          "metadata": {},
          "output_type": "execute_result"
        }
      ],
      "source": [
        "X_train.groupby('sex')['age'].mean()"
      ]
    },
    {
      "cell_type": "markdown",
      "metadata": {
        "id": "7U3ygwSDn9PF"
      },
      "source": [
        "<div dir=rtl>\n",
        "פקודה זו מחלקת את הנתונים לקבוצות לפי המין, ומחשבת את הגיל הממוצע לגברים ולנשים בנפרד. ניתן להסיק מכך שהניסוי התרחש על פני אותם גילאים, הן בנשים והן בגברים, ולכן הגיל ההמוצע הוא כמעט זהה.   \n",
        "\n",
        "</div>"
      ]
    },
    {
      "cell_type": "code",
      "execution_count": 12,
      "metadata": {
        "colab": {
          "base_uri": "https://localhost:8080/"
        },
        "id": "WQA0HR5IoUtM",
        "outputId": "f406499a-aece-4a0f-99e9-502091ae37ce"
      },
      "outputs": [
        {
          "data": {
            "text/plain": [
              "fbs\n",
              "0    53.815714\n",
              "1    57.583333\n",
              "Name: age, dtype: float64"
            ]
          },
          "execution_count": 12,
          "metadata": {},
          "output_type": "execute_result"
        }
      ],
      "source": [
        "X_train.groupby('fbs')['age'].mean()"
      ]
    },
    {
      "cell_type": "markdown",
      "metadata": {
        "id": "JLMyvlZvoUOl"
      },
      "source": [
        "<div dir=rtl> פקודה זו מחלקת את הנתונים לקבוצות על פי הגיל הממוצע לפי רמות הסוכר בדם, ומציגה האם יש קשר בין הגיל לבין רמות הסוכר בדם. ניתן להסיק שישנו קשר בין הגיל לבין רמות הסוכר, הגיל הממוצע של האנשים שרמות הסוכר שלהם נמוכות מ-120 (60 -120, מצב תקין) הוא נמוך מאלו שרמות הסוכר שלהם גבוהות.\n",
        "\n",
        "\n",
        "</div>"
      ]
    },
    {
      "cell_type": "markdown",
      "metadata": {
        "id": "34cG9nOfEQTf"
      },
      "source": [
        "## <span dir=rtl> הצגה ויזואלית של הנתונים</span>"
      ]
    },
    {
      "cell_type": "markdown",
      "metadata": {
        "id": "4eAtrdyRPYnU"
      },
      "source": [
        "### <span dir=rtl> גרף מסוג - Barplot</span>"
      ]
    },
    {
      "cell_type": "code",
      "execution_count": 13,
      "metadata": {
        "colab": {
          "base_uri": "https://localhost:8080/",
          "height": 467
        },
        "id": "Ag8TcH3iBAxd",
        "outputId": "b30ac12b-6a95-46fb-8d94-974af7c376b2"
      },
      "outputs": [
        {
          "data": {
            "text/plain": [
              "Text(0, 0.5, 'Thalach')"
            ]
          },
          "execution_count": 13,
          "metadata": {},
          "output_type": "execute_result"
        },
        {
          "data": {
            "image/png": "[encoded data removed]",
            "text/plain": [
              "<Figure size 640x480 with 1 Axes>"
            ]
          },
          "metadata": {},
          "output_type": "display_data"
        }
      ],
      "source": [
        "colors = [ '#FFB3BA', '#AEC6CF'] # פלטת צבעים\n",
        "sns.barplot(x='sex', y='thalach', hue='sex', data=X_train, errorbar=None , palette=colors, dodge=False) # מונע חפיפה של העמודות בגרפים על ידי הזחה שלהן זו מזו\n",
        "# dodge=False גורם לעמודות של כל קטגוריה להיות מוצגות יחד\n",
        "\n",
        "#הוספת שמות צירי הגרף\n",
        "plt.xlabel('Sex')\n",
        "plt.ylabel('Thalach')\n"
      ]
    },
    {
      "cell_type": "markdown",
      "metadata": {
        "id": "NFpqssTXT-Os"
      },
      "source": [
        "<div dir=rtl> הגרף מציג את הממוצע של המשתנה \"thalach\" (מקסימום דופק שהושג בבדיקת מאמץ) הן אצל נשים והן אצל גברים. ניתן לראות, שהממוצעים עבור גברים (עמודה 1) ונשים (עמודה 0) די דומים ואין הבדל ניכר ביניהם.\n",
        "המשתנה על הציר האנכי (y) הוא \"thalach\". מדובר במשתנה רציף.\n",
        "המשתנה על הציר האופקי (x) הוא \"sex\". מדובר במשתנה בדיד, שיכול לקבל רק את הערכים 0 או 1.\n",
        "\n",
        "</div>"
      ]
    },
    {
      "cell_type": "markdown",
      "metadata": {
        "id": "MSoFLbZBWFzs"
      },
      "source": [
        "### <span dir=rtl>  גרף מסוג - Scatterplot </span>"
      ]
    },
    {
      "cell_type": "code",
      "execution_count": 14,
      "metadata": {
        "colab": {
          "base_uri": "https://localhost:8080/",
          "height": 467
        },
        "id": "vfiz7x4OW0sY",
        "outputId": "102f4d6b-79fa-4739-e970-68173358ea49"
      },
      "outputs": [
        {
          "data": {
            "text/plain": [
              "<Axes: xlabel='chol', ylabel='trestbps'>"
            ]
          },
          "execution_count": 14,
          "metadata": {},
          "output_type": "execute_result"
        },
        {
          "data": {
            "image/png": "[encoded data removed]",
            "text/plain": [
              "<Figure size 640x480 with 1 Axes>"
            ]
          },
          "metadata": {},
          "output_type": "display_data"
        }
      ],
      "source": [
        "colors1 = ['#F06292', '#42A5F5']\n",
        "sns.scatterplot(data = X_train, x='chol', y='trestbps', hue='sex' ,palette=colors1)"
      ]
    },
    {
      "cell_type": "markdown",
      "metadata": {
        "id": "ZFwtsISE5ifY"
      },
      "source": [
        "<div dir=rtl>  מהגרף, המציג את הקשר בין רמות הכולסטרול בדם (ציר x) ללחץ הדם במנוחה (ציר y), ניתן להסיק כי קיימת מגמה כללית של קשר חיובי בין שני המשתנים - ככל שרמות הכולסטרול גבוהות יותר, כך נראה שלחץ הדם במנוחה גבוה יותר. עם זאת, הקשר אינו חזק או ליניארי לחלוטין. ישנם מקרים רבים של ערכי כולסטרול גבוהים עם לחצי דם נמוכים, ולהפך. ישנם גם מקרים קיצוניים (outliers) של ערכי כולסטרול וגם לחצי דם גבוהים מאוד, שיוצרים את הנקודות הבודדות בפינות העליונות של הגרף. בנוסף, הוספתי פרמטר שמציג אילו נתונים שייכים לגברים ואילו נתונים שייכים לגברים, ניתן לראות שאין הבדלים בין נשים לגברים בנוגע לקשר.\n",
        " </div>"
      ]
    },
    {
      "cell_type": "markdown",
      "metadata": {
        "id": "Wd6oznmqCwMZ"
      },
      "source": [
        "### <span dir=rtl>  גרף מסוג - Boxplot </span>"
      ]
    },
    {
      "cell_type": "code",
      "execution_count": 15,
      "metadata": {
        "colab": {
          "base_uri": "https://localhost:8080/",
          "height": 424
        },
        "id": "wiMjcd9S8DJb",
        "outputId": "5aa3d0f8-8063-4bd9-e879-669ff593b15b"
      },
      "outputs": [
        {
          "data": {
            "text/html": [
              "<div>\n",
              "<style scoped>\n",
              "    .dataframe tbody tr th:only-of-type {\n",
              "        vertical-align: middle;\n",
              "    }\n",
              "\n",
              "    .dataframe tbody tr th {\n",
              "        vertical-align: top;\n",
              "    }\n",
              "\n",
              "    .dataframe thead th {\n",
              "        text-align: right;\n",
              "    }\n",
              "</style>\n",
              "<table border=\"1\" class=\"dataframe\">\n",
              "  <thead>\n",
              "    <tr style=\"text-align: right;\">\n",
              "      <th></th>\n",
              "      <th>variable</th>\n",
              "      <th>value</th>\n",
              "    </tr>\n",
              "  </thead>\n",
              "  <tbody>\n",
              "    <tr>\n",
              "      <th>0</th>\n",
              "      <td>age</td>\n",
              "      <td>49.0</td>\n",
              "    </tr>\n",
              "    <tr>\n",
              "      <th>1</th>\n",
              "      <td>age</td>\n",
              "      <td>64.0</td>\n",
              "    </tr>\n",
              "    <tr>\n",
              "      <th>2</th>\n",
              "      <td>age</td>\n",
              "      <td>54.0</td>\n",
              "    </tr>\n",
              "    <tr>\n",
              "      <th>3</th>\n",
              "      <td>age</td>\n",
              "      <td>59.0</td>\n",
              "    </tr>\n",
              "    <tr>\n",
              "      <th>4</th>\n",
              "      <td>age</td>\n",
              "      <td>51.0</td>\n",
              "    </tr>\n",
              "    <tr>\n",
              "      <th>...</th>\n",
              "      <td>...</td>\n",
              "      <td>...</td>\n",
              "    </tr>\n",
              "    <tr>\n",
              "      <th>10655</th>\n",
              "      <td>thal</td>\n",
              "      <td>2.0</td>\n",
              "    </tr>\n",
              "    <tr>\n",
              "      <th>10656</th>\n",
              "      <td>thal</td>\n",
              "      <td>3.0</td>\n",
              "    </tr>\n",
              "    <tr>\n",
              "      <th>10657</th>\n",
              "      <td>thal</td>\n",
              "      <td>3.0</td>\n",
              "    </tr>\n",
              "    <tr>\n",
              "      <th>10658</th>\n",
              "      <td>thal</td>\n",
              "      <td>3.0</td>\n",
              "    </tr>\n",
              "    <tr>\n",
              "      <th>10659</th>\n",
              "      <td>thal</td>\n",
              "      <td>2.0</td>\n",
              "    </tr>\n",
              "  </tbody>\n",
              "</table>\n",
              "<p>10660 rows × 2 columns</p>\n",
              "</div>"
            ],
            "text/plain": [
              "      variable  value\n",
              "0          age   49.0\n",
              "1          age   64.0\n",
              "2          age   54.0\n",
              "3          age   59.0\n",
              "4          age   51.0\n",
              "...        ...    ...\n",
              "10655     thal    2.0\n",
              "10656     thal    3.0\n",
              "10657     thal    3.0\n",
              "10658     thal    3.0\n",
              "10659     thal    2.0\n",
              "\n",
              "[10660 rows x 2 columns]"
            ]
          },
          "execution_count": 15,
          "metadata": {},
          "output_type": "execute_result"
        }
      ],
      "source": [
        "X_train_melted = X_train.melt()\n",
        "X_train_melted"
      ]
    },
    {
      "cell_type": "markdown",
      "metadata": {
        "id": "wbLMSqKCCtq6"
      },
      "source": [
        "<div dir=rtl>  על מנת ליצור גרף מסוג boxplot לכל העמודות על ידי פקודה אחת, תחילה, צריך להשתמש במתודה זו שהופכת את הטבלה האימון, לטבלה בת 2 עמודות. בעמודה ״varibale\" יוצגו שמות העמודות של טבלת האימון, ובעמודה ״value״ יוצגו ערכי העמודות בהתאמה </div>"
      ]
    },
    {
      "cell_type": "code",
      "execution_count": 16,
      "metadata": {
        "colab": {
          "base_uri": "https://localhost:8080/",
          "height": 1000
        },
        "id": "zMMbF6gJGYSG",
        "outputId": "436f608b-7255-4b0a-f8b2-660ba8324729"
      },
      "outputs": [
        {
          "data": {
            "text/plain": [
              "<seaborn.axisgrid.FacetGrid at 0x211a772e150>"
            ]
          },
          "execution_count": 16,
          "metadata": {},
          "output_type": "execute_result"
        },
        {
          "data": {
            "image/png": "[encoded data removed]",
            "text/plain": [
              "<Figure size 2107x2000 with 13 Axes>"
            ]
          },
          "metadata": {},
          "output_type": "display_data"
        }
      ],
      "source": [
        "g = sns.catplot(kind='box',\n",
        "                data=X_train_melted, # שימוש בטבלה שיצרתי קודם\n",
        "                y='value', # y הערכים של העמודות יהיו על ציר\n",
        "                col='variable', # שלהן זהה variableיוצר תת גרף נפרד לכל השורות שה\n",
        "                col_wrap=4, #הצגת ארבעה גרפים בשורה\n",
        "                sharey=False, # כל גרף יקבל ציר עם טווח ערכים עצמאי\n",
        "                hue='variable', # כל גרף בגוון אחר\n",
        "                palette='Blues')  # פלטת הצבעים של גווני כחול\n",
        "g.set_titles('{col_name}') # הוספת כותרות\n"
      ]
    },
    {
      "cell_type": "markdown",
      "metadata": {
        "id": "dTlEWToUEPs0"
      },
      "source": [
        "<div dir=rtl>   \n",
        "בגרף זה ניתן לראות את הערכים החריגים בכל עמודה.\n",
        "העמודות בהן ישנן ערכים חריגים הן:\n",
        "\n",
        "**לחץ דם במנוחה (trestbps):**\n",
        " ניתן לראות שישנם ערכים שגדולים מעט מ-200.\n",
        "\n",
        "**כולסטרול בסרום (chol):**\n",
        "ניתן לראות שישנם ערכים שגדולים מ-350, ישנה גם נקודה שגדולה מ-500.\n",
        "\n",
        "**מקסימום דופק במאמץ(thalac):**\n",
        " ישנה נקודה שקטנה מהערך 100.\n",
        "\n",
        "\n",
        "**fbs:** ישנם ערכים חריגים שערכם 1, מה שמרמז שרמת הסוכר של רוב הנבדקים תקינה.\n",
        "\n",
        "**ca:** מייצג את מספר העורקים הכליליים (עורקים אשר מעבירים דם מועשר בחמצן אל תאי שריר הלב) שהוגדרו כ״בעייתים״ - פוטנציאל גבוה שבגללם יחוו התקף לב.\n",
        "\n",
        "**oldpeak:** ישנם מעט חריגים הגדולים מ-4, כזכור ערכים אלו מראים לנו את רמת את עומק רמת הדיכוי - ככל שהדיכוי יותר עמוק יש סיכום לחסימה של עורקים, ובכך להתקף לב.\n",
        "\n",
        "**thal:** ישנו ערך חריג ששווה ל-0.\n",
        "\n",
        "את הערכים החריגים האלה נחליט אם צריך להוריד באמצעות ה- GreedSerchCV\n",
        "</div>"
      ]
    },
    {
      "cell_type": "markdown",
      "metadata": {
        "id": "lmfFALAwZ0rf"
      },
      "source": [
        "### <span dir=rtl>  קורלציה </span>"
      ]
    },
    {
      "cell_type": "code",
      "execution_count": 17,
      "metadata": {
        "id": "poUHxP17IpMp"
      },
      "outputs": [],
      "source": [
        "Xy_train = pd.concat([X_train, y_train], axis = 1)"
      ]
    },
    {
      "cell_type": "code",
      "execution_count": 18,
      "metadata": {
        "colab": {
          "base_uri": "https://localhost:8080/",
          "height": 743
        },
        "id": "SGtddhKmEP2T",
        "outputId": "a2cf8310-a8ba-4b6a-beea-11a519ece07e"
      },
      "outputs": [
        {
          "data": {
            "text/plain": [
              "<Axes: >"
            ]
          },
          "execution_count": 18,
          "metadata": {},
          "output_type": "execute_result"
        },
        {
          "data": {
            "image/png": "[encoded data removed]",
            "text/plain": [
              "<Figure size 1000x800 with 2 Axes>"
            ]
          },
          "metadata": {},
          "output_type": "display_data"
        }
      ],
      "source": [
        "custom_colors = ['#FCE4EC', '#F8BBD0', '#F48FB1', '#F06292', '#EC407A'] # פלטת צבעים\n",
        "cmap = LinearSegmentedColormap.from_list('custom_cmap', custom_colors) #  משתנה ששומר בתוכו מפת צבעים\n",
        "\n",
        "\n",
        "fig, ax = plt.subplots(figsize=(10, 8)) # יצירת הצירים, לפי גודל 8 על 10\n",
        "data_temp = Xy_train # משתנה ששומר את נתוני הטבלה\n",
        "Xy_train_dummies = pd.get_dummies(data_temp) # הפיכה למשתנה דמי (משמש לייצוג משתנה קטגוריאלי במפת הקורלציה)\n",
        "corr_matrix = Xy_train_dummies.corr() # חישוב ההתאמה בין כל אחד\n",
        "sns.heatmap(corr_matrix, # החישוב\n",
        "            cmap=cmap,  # מפת הצבעים\n",
        "            annot=True, # הצגת הערכים בתאים, בהתאמה\n",
        "            fmt=\".2f\", # הצגה עם שתי מספרים אחרי הנקודה\n",
        "            ax=ax) # שימוש בציר שהוגדר קודם לכן\n"
      ]
    },
    {
      "cell_type": "markdown",
      "metadata": {
        "id": "av9iyJGqcIUo"
      },
      "source": [
        "<div dir=rtl>  הצגתי את הקורלציה בין הנתונים. מהקורלציה עולה כי התכונות הבולטות ביותר עם התאמה למשתנה המטרה הן cp (סוג כאב החזה), thalach (מקסימום דופק במאמץ), slope (שיפוע קטע ה-ST במאמץ) ו-oldpeak (דיכוי ST), אלו מציגות קורלציות בינוניות עד חזקות עם עמודת המטרה - target. לעומת זאת, תכונות כמו sex, restecg ו-exang (כאב מסוג אנגינה) מראות קורלציה חלשה יחסית עם עמודת המטרה. סה\"כ נראה שתכונות הקשורות למאמץ גופני וכאבי חזה משמשות כחזאים המרכזיים למשתנה המטרה.\n",
        "\n",
        "</divn>"
      ]
    },
    {
      "cell_type": "markdown",
      "metadata": {
        "id": "Yd1fhauqZKlk"
      },
      "source": [
        "## <span dir=rtl>   עיבוד נתונים </span>"
      ]
    },
    {
      "cell_type": "code",
      "execution_count": 19,
      "metadata": {
        "id": "9fkU8mNPtEtc"
      },
      "outputs": [],
      "source": [
        "lrn.set_config(transform_output = 'pandas') # החזרת טבלה בכל פעם"
      ]
    },
    {
      "cell_type": "markdown",
      "metadata": {
        "id": "qg0-7NvZZZdH"
      },
      "source": [
        "### <span dir=rtl>  ניקיון - data cleaning </span>"
      ]
    },
    {
      "cell_type": "markdown",
      "metadata": {
        "id": "iDWO8-cg40ij"
      },
      "source": [
        "#### <span dir=rtl>  זיהוי כפילויות </span>"
      ]
    },
    {
      "cell_type": "code",
      "execution_count": 20,
      "metadata": {
        "colab": {
          "base_uri": "https://localhost:8080/"
        },
        "id": "hF6LJs8q5YRD",
        "outputId": "b2404b3c-8010-4843-8ea3-9ba6ff779846"
      },
      "outputs": [
        {
          "data": {
            "text/plain": [
              "np.int64(799)"
            ]
          },
          "execution_count": 20,
          "metadata": {},
          "output_type": "execute_result"
        }
      ],
      "source": [
        "X_train.duplicated(keep=False).sum()"
      ]
    },
    {
      "cell_type": "code",
      "execution_count": 21,
      "metadata": {
        "colab": {
          "base_uri": "https://localhost:8080/"
        },
        "id": "XyP330KxpqMq",
        "outputId": "c1a1d580-944c-4114-b435-fa1fdc369edd"
      },
      "outputs": [
        {
          "data": {
            "text/plain": [
              "age  sex  cp  trestbps  chol  fbs  restecg  thalach  exang  oldpeak  slope  ca  thal\n",
              "38   1    2   138       175   0    1        173      0      0.0      2      4   2       7\n",
              "62   0    2   130       263   0    1        97       0      1.2      1      1   3       4\n",
              "35   1    1   122       192   0    1        174      0      0.0      2      0   2       4\n",
              "66   0    2   146       278   0    0        152      0      0.0      1      1   2       4\n",
              "     1    0   112       212   0    0        132      1      0.1      2      1   2       4\n",
              "                                                                                       ..\n",
              "43   1    2   130       315   0    1        162      0      1.9      2      1   2       1\n",
              "65   1    0   120       177   0    1        140      0      0.4      2      0   3       1\n",
              "42   1    0   140       226   0    1        178      0      0.0      2      0   2       1\n",
              "43   1    0   115       303   0    1        181      0      1.2      1      0   2       1\n",
              "67   0    2   115       564   0    0        160      0      1.6      1      0   3       1\n",
              "Length: 300, dtype: int64"
            ]
          },
          "execution_count": 21,
          "metadata": {},
          "output_type": "execute_result"
        }
      ],
      "source": [
        "X_train.groupby(by=X_train.columns.to_list()).size().sort_values(ascending=False)"
      ]
    },
    {
      "cell_type": "markdown",
      "metadata": {
        "id": "RGywC60SfSG1"
      },
      "source": [
        "<div dir=rtl>\n",
        "\n",
        "כאשר הצגתי את כל הכפילויות בטבלה, היה ניתן לראות שישנן הרבה שורות שחוזרות על עצמן. אמנם כאשר הרצתי בדיקה של מספר הפעמים שכל שורה מופיעה, ניתן היה לראות שישנן שורות שהופיעו מספר רב יותר של פעמים מאשר שורות אחרות. בעקבות זאת, נרצה לשאיר את הערכים הכפולים מפני שייתכן שישנה חשיבות למספר הפעמים שכל כפילות מופיעה, זה יכול לייצג את המשקל היחסי של קבוצות שונות באוכלוסייה המקורית. הסרת הכפילויות עלולה לגרום לאיבוד מידע חשוב זה.\n",
        " </divn>\n",
        "\n"
      ]
    },
    {
      "cell_type": "markdown",
      "metadata": {
        "id": "wRjTLGtRz8L5"
      },
      "source": [
        "### <span dir=rtl>  השלמת חסרים </span>"
      ]
    },
    {
      "cell_type": "code",
      "execution_count": 22,
      "metadata": {
        "id": "aeSVA-5N0Dms"
      },
      "outputs": [],
      "source": [
        "cat_cols = ['sex', 'cp', 'fbs', 'restecg', 'exang', 'slope', 'ca', 'thal'] #  (מספר קטן של ערכים שלמים)רשימה של כל העמודות הקטגרואליות\n",
        "cat_action = SimpleImputer(strategy = 'most_frequent') # השלמה על ידי הערך הכי נפוץ"
      ]
    },
    {
      "cell_type": "code",
      "execution_count": 23,
      "metadata": {
        "id": "AjWLLa9U074H"
      },
      "outputs": [],
      "source": [
        "discrete_cols = ['age', 'trestbps', 'chol', 'thalach' ] # עמודות מספריות עם הרבה ערכים שלמים\n",
        "discrete_action = SimpleImputer(strategy = 'median') # השלמת על ידי החציון"
      ]
    },
    {
      "cell_type": "code",
      "execution_count": 24,
      "metadata": {
        "id": "92ydgXYX1a9Y"
      },
      "outputs": [],
      "source": [
        "continuous_cols = ['oldpeak'] # עמודה מספריות עם שבר עשרוני\n",
        "continuous_action = SimpleImputer(strategy = 'mean') # השלמה על ידי ממוצע"
      ]
    },
    {
      "cell_type": "code",
      "execution_count": 25,
      "metadata": {
        "id": "vSOXFkRpgsuu"
      },
      "outputs": [],
      "source": [
        "imputation_steps = [('cat', cat_action, cat_cols),\n",
        "                   ('discrete', discrete_action, discrete_cols),\n",
        "                   ('continuous', continuous_action, continuous_cols)] # החלקים של הכאלם טרנספורמר"
      ]
    },
    {
      "cell_type": "code",
      "execution_count": 26,
      "metadata": {
        "id": "qFSAqifufTr_"
      },
      "outputs": [],
      "source": [
        "imputer = ColumnTransformer(transformers = imputation_steps, verbose_feature_names_out = False, n_jobs= -1) # הגדרת הכאלם טרנספורמר"
      ]
    },
    {
      "cell_type": "markdown",
      "metadata": {
        "id": "tDqTkbyflKBH"
      },
      "source": [
        "<div dir=rtl>\n",
        "\n",
        "בקוד זה, הוספתי חלק שמתמודד עם ערכים חסרים, גם אם בנתוני האימון הנוכחיים (X_train) אין ערכים חסרים. השלב הזה חשוב כדי להכין את המודל לטפל בצורה נכונה במקרים שבהם יופיעו ערכים חסרים בנתונים בשלב הבדיקה או החיזוי (X_test).\n",
        "\n",
        " </div>"
      ]
    },
    {
      "cell_type": "markdown",
      "metadata": {
        "id": "ZmXLx40ujdMF"
      },
      "source": [
        "### <span dir=rtl> תקנון </span>"
      ]
    },
    {
      "cell_type": "code",
      "execution_count": 27,
      "metadata": {
        "id": "ZtXE0USDjhx9"
      },
      "outputs": [],
      "source": [
        "pre_processing_steps = [\n",
        "    ('impute', imputer),  # שלב השלמת החסרים\n",
        "    ('outliers', Winsorizer()),  # הופך את החריגים לפחות מוקצנים\n",
        "    ('scaler', MinMaxScaler())]  # נרמול התחלתי (ישתנה)\n",
        "preprocessor = Pipeline(steps=pre_processing_steps)"
      ]
    },
    {
      "cell_type": "markdown",
      "metadata": {
        "id": "SiT2j5l6Ebls"
      },
      "source": [
        "## <span dir=rtl> למידת מכונה</span>"
      ]
    },
    {
      "cell_type": "markdown",
      "metadata": {
        "id": "GjemUQJ3erFe"
      },
      "source": [
        "### <span dir=rtl> GridsearchCV - נרמול הנתונים, אימון וחיזוי</span>"
      ]
    },
    {
      "cell_type": "code",
      "execution_count": 28,
      "metadata": {
        "id": "yxcfe07xgNeD"
      },
      "outputs": [],
      "source": [
        "# הגדרת הפייפליין\n",
        "clf = Pipeline([\n",
        "    ('pre_processor', preprocessor),  # הטבלה לאחר ההשלמת החסרים, טיפול בחריגים\n",
        "    ('classifier', KNeighborsClassifier())  # סיווג התחלתי (ישתנה)\n",
        "])\n",
        "\n",
        "\n",
        "# הגדרת הפרמטרים\n",
        "params = [\n",
        "    {\n",
        "        'pre_processor__impute__cat__strategy': ['mean', 'median', 'most_frequent'],  # בחירת השלמת חסרים בעמודות הקטגוראליות\n",
        "        'pre_processor__impute__discrete__strategy':['mean', 'median', 'most_frequent'], # בחירת השלמת חסרים בעמודות מספריות עם ערכים שלמים\n",
        "        'pre_processor__impute__continuous__strategy':['mean', 'median', 'most_frequent'], # בחירת השלמת חסרים בעמודות מספריות עם שבר עשרוני\n",
        "\n",
        "        'pre_processor__scaler': [MinMaxScaler(), StandardScaler(), RobustScaler(), MaxAbsScaler()],  # סקיילרים לתקנון\n",
        "        'pre_processor__outliers': [helpers.identity_transformer, Winsorizer()],  # החלטה על טיפול בחריגים\n",
        "        'classifier': [KNeighborsClassifier()],  # הגדרת מסווג\n",
        "        'classifier__n_neighbors': [10, 25, 32, 50]  # אופציות לפרמטרים\n",
        "    },\n",
        "    {\n",
        "        'pre_processor__impute__cat__strategy': ['mean', 'median', 'most_frequent'],  # בחירת השלמת חסרים בעמודות הקטגוראליות\n",
        "          'pre_processor__impute__discrete__strategy':['mean', 'median', 'most_frequent'], # בחירת השלמת חסרים בעמודות מספריות עם ערכים שלמים\n",
        "        'pre_processor__impute__continuous__strategy':['mean', 'median', 'most_frequent'], # בחירת השלמת חסרים בעמודות מספריות עם שבר עשרוני\n",
        "        'pre_processor__scaler': [MinMaxScaler(), StandardScaler(), RobustScaler(), MaxAbsScaler()],  # סקיילרים לתקנון\n",
        "        'pre_processor__outliers': [helpers.identity_transformer, Winsorizer()],  # החלטה על טיפול בחריגים\n",
        "        'classifier': [SVC(random_state=555)],  # הגדרת מסווג\n",
        "        'classifier__C': [1, 10, 15, 25, 50],  # אופציות לפרמטרים\n",
        "        'classifier__kernel': ['linear', 'rbf', 'poly', 'sigmoid']  # אופציות לפרמטרים\n",
        "    }\n",
        "]"
      ]
    },
    {
      "cell_type": "code",
      "execution_count": 29,
      "metadata": {},
      "outputs": [],
      "source": [
        "scorer = make_scorer(accuracy_score)"
      ]
    },
    {
      "cell_type": "code",
      "execution_count": 30,
      "metadata": {
        "id": "YMYBQ7Y_jdju"
      },
      "outputs": [],
      "source": [
        "gs = GridSearchCV(estimator=clf, param_grid=params, scoring = scorer, n_jobs=-1, verbose= 10, error_score= 'raise')"
      ]
    },
    {
      "cell_type": "code",
      "execution_count": 31,
      "metadata": {},
      "outputs": [
        {
          "name": "stdout",
          "output_type": "stream",
          "text": [
            "original fit duration: 04:03:32\n"
          ]
        }
      ],
      "source": [
        "gs = helpers.fit(gs, X_train, y_train)"
      ]
    },
    {
      "cell_type": "code",
      "execution_count": 32,
      "metadata": {
        "colab": {
          "base_uri": "https://localhost:8080/"
        },
        "id": "axlievci-BsA",
        "outputId": "3f145e67-89dc-4ca7-86eb-48a688204fcc"
      },
      "outputs": [
        {
          "data": {
            "text/plain": [
              "{'classifier': KNeighborsClassifier(),\n",
              " 'classifier__n_neighbors': 10,\n",
              " 'pre_processor__impute__cat__strategy': 'mean',\n",
              " 'pre_processor__impute__continuous__strategy': 'mean',\n",
              " 'pre_processor__impute__discrete__strategy': 'mean',\n",
              " 'pre_processor__outliers': Winsorizer(),\n",
              " 'pre_processor__scaler': RobustScaler()}"
            ]
          },
          "execution_count": 32,
          "metadata": {},
          "output_type": "execute_result"
        }
      ],
      "source": [
        "gs.best_params_\n",
        "#הצגת הפרמטרים שנתנו תוצאות טובות ביותר"
      ]
    },
    {
      "cell_type": "markdown",
      "metadata": {
        "id": "XhQ1K8F8E2Q7"
      },
      "source": [
        "<div dir=rtl>\n",
        "\n",
        "התוצאה n_neighbors = 10 שהתקבלה היא התוצאה הטובה ביותר שנמצאה בתוך הטווח המוגדר של ערכי הפרמטרים שנבדקו. עם זאת, זו אינה בהכרח התוצאה האופטימלית הסופית. לכן, בהמשך אבצע חיפוש ממוקד יותר בסביבת הערכים הסמוכים לתוצאה זו. אגדיר טווח חדש וצר יותר של ערכי פרמטרים, סביב הערך 10, ואבדוק את הביצועים בטווח זה. חיפוש כזה עשוי לחשוף ערכי פרמטרים טובים עוד יותר, שיובילו לשיפור נוסף בביצועי המודל.\n",
        "במילים אחרות, הממצא הנוכחי n_neighbors = 10 אינו קו הסיום, אלא נקודת מוצא לחיפוש ממוקד ומדויק יותר לכיוון שיפור ביצועים נוסף של המודל\n",
        "\n",
        "\n",
        "</div>\n"
      ]
    },
    {
      "cell_type": "code",
      "execution_count": 33,
      "metadata": {
        "id": "Z3dWviw9FYpj"
      },
      "outputs": [],
      "source": [
        "clf = Pipeline([\n",
        "    ('pre_processor', preprocessor),  # הטבלה לאחר ההשלמת החסרים, טיפול בחריגים\n",
        "    ('classifier', KNeighborsClassifier())  # סיווג התחלתי (ישתנה)\n",
        "])\n",
        "\n",
        "# הגדרת הפרמטרים\n",
        "params = [\n",
        "    {\n",
        "        'pre_processor__impute__cat__strategy':['mean', 'median', 'most_frequent'], # בחירת השלמת חסרים בעמודות הקטגוראליות\n",
        "        'pre_processor__impute__discrete__strategy':['mean', 'median', 'most_frequent'], # בחירת השלמת חסרים בעמודות מספריות עם ערכים שלמים\n",
        "        'pre_processor__impute__continuous__strategy':['mean', 'median', 'most_frequent'], # בחירת השלמת חסרים בעמודות מספריות עם שבר עשרוני\n",
        "        'pre_processor__scaler': [MinMaxScaler(), StandardScaler(), RobustScaler(), MaxAbsScaler()], # סקיילרים לתקנון\n",
        "        'pre_processor__outliers': [helpers.identity_transformer, Winsorizer()], # החלטה על טיפול בחריגים\n",
        "        'classifier': [KNeighborsClassifier()], # הגדרת מסווג\n",
        "        'classifier__n_neighbors': [8, 9, 10, 11, 12] # פרמטרים\n",
        "    },\n",
        "    {\n",
        "         'pre_processor__impute__cat__strategy':['mean', 'median', 'most_frequent'], # בחירת השלמת חסרים בעמודות הקטגוראליות\n",
        "        'pre_processor__impute__discrete__strategy':['mean', 'median', 'most_frequent'], # בחירת השלמת חסרים בעמודות מספריות עם ערכים שלמים\n",
        "       'pre_processor__impute__continuous__strategy':['mean', 'median', 'most_frequent'], # בחירת השלמת חסרים בעמודות מספריות עם שבר עשרוני\n",
        "        'pre_processor__scaler': [MinMaxScaler(), StandardScaler(), RobustScaler(), MaxAbsScaler()], # סקיילרים לתקנון\n",
        "        'pre_processor__outliers': [helpers.identity_transformer, Winsorizer()], # החלטה על טיפול בחריגים\n",
        "        'classifier': [SVC(random_state= 555)], # הגדרת מסווג\n",
        "        'classifier__C': [5, 12, 18, 22], # פרמטרים\n",
        "        'classifier__kernel': ['linear', 'rbf', 'poly', 'sigmoid'] # פרמטרים\n",
        "    }\n",
        "]\n"
      ]
    },
    {
      "cell_type": "code",
      "execution_count": 34,
      "metadata": {
        "id": "pUOpUxGW_Lbb"
      },
      "outputs": [],
      "source": [
        "gs1 = GridSearchCV(estimator = clf, # הפייפליין\n",
        "                  param_grid = params, # הפרפטרים שנבחרו\n",
        "                  scoring = scorer,\n",
        "                  n_jobs = -1, # שליחה למעבדים אחרים, לייעל זמן ריצה\n",
        "                  verbose= 10,\n",
        "                  error_score= 'raise')"
      ]
    },
    {
      "cell_type": "code",
      "execution_count": 35,
      "metadata": {},
      "outputs": [
        {
          "name": "stdout",
          "output_type": "stream",
          "text": [
            "original fit duration: 00:55:08\n"
          ]
        }
      ],
      "source": [
        "gs1 = helpers.fit(gs1, X_train, y_train, '1')"
      ]
    },
    {
      "cell_type": "code",
      "execution_count": 36,
      "metadata": {
        "colab": {
          "base_uri": "https://localhost:8080/"
        },
        "id": "qkp-mfDvrhZB",
        "outputId": "4bbb6ab1-3247-48cc-b58b-aa0d95d32ea8"
      },
      "outputs": [
        {
          "data": {
            "text/plain": [
              "{'classifier': KNeighborsClassifier(),\n",
              " 'classifier__n_neighbors': 12,\n",
              " 'pre_processor__impute__cat__strategy': 'mean',\n",
              " 'pre_processor__impute__continuous__strategy': 'mean',\n",
              " 'pre_processor__impute__discrete__strategy': 'mean',\n",
              " 'pre_processor__outliers': FunctionTransformer(feature_names_out='one-to-one',\n",
              "                     func=<function <lambda> at 0x00000211AC18BA60>),\n",
              " 'pre_processor__scaler': RobustScaler()}"
            ]
          },
          "execution_count": 36,
          "metadata": {},
          "output_type": "execute_result"
        }
      ],
      "source": [
        "gs1.best_params_\n",
        "# הצגת הפרמטרים שנתנו את התוצאות הטובות ביותר"
      ]
    },
    {
      "cell_type": "markdown",
      "metadata": {
        "id": "3F0riLPOE5x5"
      },
      "source": [
        "<div dir='rtl'>\n",
        "\n",
        "כאן, ביצעתי כמה שינוים במטרה לחפש ערכי פרמטרים אופטימליים יותר בסביבת הערכים שזוהו כטובים ביותר בחיפוש הקודם. ראשית, עבור הסיווג knn, צמצמתי את טווח ערכי הפרמטר n_neighbors לערכים הקרובים לערך 10, שזוהה כטוב בחיפוש הקודם. הערכים שנבחרו הם 8, 9, 10, 11 ו-12. צמצום הטווח לסביבה הקרובה לערך הטוב ביותר שנמצא מאפשר חיפוש ממוקד יותר לגילוי הערך האופטימלי. שנית, עבור הסיווג svm, שיניתי את ה-C ל 5, 12, 18, 22. בחיפוש הקודם נראה שהרווחים בין הערכים היו גדולים מדי, ולכן בחיפוש הנוכחי הצרתי את הטווח לערכים קרובים יותר. שינויים אלו מאפשרים לעשות איתור טוב יותר של ערכי פרמטרים אופטימליים על ידי חיפוש ממוקד בטווחים צרים יותר סביב הערך הטוב מהחיפוש הראשוני. התוצאות כאן דווקא מראות, שהסיווג n_neighbors = 11, טוב יותר, לכן ב- GridSearchCV הבא, אעביר לn_neighbors רק את הפרמטר 12, ואבדוק על ערכי C נוספים.\n",
        "\n",
        "\n",
        "\n",
        "</div>"
      ]
    },
    {
      "cell_type": "code",
      "execution_count": 37,
      "metadata": {
        "id": "CBnE7CZ0L06g"
      },
      "outputs": [],
      "source": [
        "clf = Pipeline([\n",
        "    ('pre_processor', preprocessor),  # הטבלה לאחר ההשלמת החסרים, טיפול בחריגים\n",
        "    ('classifier', KNeighborsClassifier())  # סיווג התחלתי (ישתנה)\n",
        "])\n",
        "# הגדרת הפרמטרים\n",
        "params = [\n",
        "    {\n",
        "        'pre_processor__impute__cat__strategy':['mean'], # בחירת השלמת חסרים בעמודות הקטגוראליות\n",
        "        'pre_processor__impute__discrete__strategy':['mean'], # בחירת השלמת חסרים בעמודות מספריות עם ערכים שלמים\n",
        "        'pre_processor__impute__continuous__strategy':['mean'], # בחירת השלמת חסרים בעמודות מספריות עם שבר עשרוני\n",
        "        'pre_processor__scaler': [MinMaxScaler(), StandardScaler(), RobustScaler(), MaxAbsScaler()], # סקיילרים לתקנון\n",
        "        'pre_processor__outliers': [helpers.identity_transformer, Winsorizer()], # החלטה על טיפול בחריגים\n",
        "        'classifier': [KNeighborsClassifier()], # הגדרת מסווג\n",
        "        'classifier__n_neighbors': [12] # פרמטרים\n",
        "    },\n",
        "    {\n",
        "\n",
        "        'pre_processor__impute__cat__strategy':['mean', 'median', 'most_frequent'], # בחירת השלמת חסרים בעמודות הקטגוראליות\n",
        "        'pre_processor__impute__discrete__strategy':['mean', 'median', 'most_frequent'], # בחירת השלמת חסרים בעמודות מספריות עם ערכים שלמים\n",
        "        'pre_processor__impute__continuous__strategy':['mean', 'median', 'most_frequent'], # בחירת השלמת חסרים בעמודות מספריות עם שבר עשרוני\n",
        "        'pre_processor__scaler': [MinMaxScaler(), StandardScaler(), RobustScaler(), MaxAbsScaler()], # סקיילרים לתקנון\n",
        "        'pre_processor__outliers': [helpers.identity_transformer, Winsorizer()], # החלטה על טיפול בחריגים\n",
        "        'classifier': [SVC(random_state= 555)], # הגדרת מסווג\n",
        "        'classifier__C': [3, 11, 14, 17, 19], # פרמטרים\n",
        "        'classifier__kernel': ['linear', 'rbf', 'poly', 'sigmoid'] # פרמטרים\n",
        "    }\n",
        "]\n"
      ]
    },
    {
      "cell_type": "code",
      "execution_count": 38,
      "metadata": {
        "id": "SUvVBCvY_iSp"
      },
      "outputs": [],
      "source": [
        "gs2 = GridSearchCV(estimator = clf, # הפייפליין\n",
        "                  param_grid = params, # הפרפטרים שנבחרו\n",
        "                  scoring = scorer,\n",
        "                  n_jobs = -1, # שליחה למעבדים אחרים, לייעל זמן ריצה\n",
        "                  verbose= 10,\n",
        "                  error_score= 'raise')"
      ]
    },
    {
      "cell_type": "code",
      "execution_count": 39,
      "metadata": {},
      "outputs": [
        {
          "name": "stdout",
          "output_type": "stream",
          "text": [
            "original fit duration: 00:36:45\n"
          ]
        }
      ],
      "source": [
        "gs2 = helpers.fit(gs2, X_train, y_train, '2')"
      ]
    },
    {
      "cell_type": "code",
      "execution_count": 40,
      "metadata": {
        "colab": {
          "base_uri": "https://localhost:8080/"
        },
        "id": "vrrCQqSf_iEh",
        "outputId": "b226c0bd-b990-439e-bd5a-726f516245c0"
      },
      "outputs": [
        {
          "data": {
            "text/plain": [
              "{'classifier': KNeighborsClassifier(),\n",
              " 'classifier__n_neighbors': 12,\n",
              " 'pre_processor__impute__cat__strategy': 'mean',\n",
              " 'pre_processor__impute__continuous__strategy': 'mean',\n",
              " 'pre_processor__impute__discrete__strategy': 'mean',\n",
              " 'pre_processor__outliers': FunctionTransformer(feature_names_out='one-to-one',\n",
              "                     func=<function <lambda> at 0x00000211ABF200E0>),\n",
              " 'pre_processor__scaler': RobustScaler()}"
            ]
          },
          "execution_count": 40,
          "metadata": {},
          "output_type": "execute_result"
        }
      ],
      "source": [
        "gs2.best_params_\n",
        "# הצגת הפרמטרים שנתנו את התוצאות הטובות ביותר"
      ]
    },
    {
      "cell_type": "markdown",
      "metadata": {
        "id": "xy-Hxjcz5n09"
      },
      "source": [
        "<div dir='rtl'>\n",
        "\n",
        " כאן הגעתי למסקנה שהפרמטר 12 הוא הטוב ביותר עבור טבלת נתונים זו\n",
        "\n",
        " </div>"
      ]
    },
    {
      "cell_type": "code",
      "execution_count": 41,
      "metadata": {
        "id": "0IkBwHTdJNf9"
      },
      "outputs": [
        {
          "name": "stdout",
          "output_type": "stream",
          "text": [
            "original predict duration: 00:00:00\n"
          ]
        }
      ],
      "source": [
        "y_predict = helpers.predict(gs2, X_test) #חיזוי על טבלת הבדיקה"
      ]
    },
    {
      "cell_type": "markdown",
      "metadata": {
        "id": "prIag1uTgjMV"
      },
      "source": [
        "#### <span dir=rtl> **מדוע השתמשתי בכל העמודות לשם חיזוי הנתונים** </span>\n",
        "\n",
        "-----------\n",
        "\n",
        "\n",
        "\n",
        "\n",
        "\n"
      ]
    },
    {
      "cell_type": "markdown",
      "metadata": {
        "id": "bXzzInvvhi1r"
      },
      "source": [
        "<div dir=rtl>\n",
        "\n",
        " במקרים כאלה של נתונים רפואיים, קיימת חשיבות רבה בשימוש במלוא המידע הזמין על מצבו הבריאותי של החולה. גורמים כמו גיל, מין, תוצאות בדיקות דם, רמות כולסטרול, קצב לב במנוחה ובמאמץ, היסטוריית מחלות לב ועוד, כולם עשויים לתרום מידע חשוב לחיזוי הסיכון להתקפת לב.</div>"
      ]
    },
    {
      "cell_type": "markdown",
      "metadata": {
        "id": "_KRsZjXQgD7M"
      },
      "source": [
        "## <span dir=rtl> חקר ובחינת ביצועים</span>"
      ]
    },
    {
      "cell_type": "code",
      "execution_count": 42,
      "metadata": {
        "colab": {
          "base_uri": "https://localhost:8080/"
        },
        "id": "yxfbXGOojcdl",
        "outputId": "d82cba21-d59e-463d-bd62-f8f29741c5be"
      },
      "outputs": [
        {
          "data": {
            "text/plain": [
              "np.float64(0.6487804878048781)"
            ]
          },
          "execution_count": 42,
          "metadata": {},
          "output_type": "execute_result"
        }
      ],
      "source": [
        "mean_absolute_error(y_test, y_predict) # בודק את רמת השגיאה בין נתוני האימון לחיזוי"
      ]
    },
    {
      "cell_type": "markdown",
      "metadata": {
        "id": "aYumct13aJx3"
      },
      "source": [
        "#### <span dir=rtl> בדיקת overfitting </span>"
      ]
    },
    {
      "cell_type": "code",
      "execution_count": 43,
      "metadata": {
        "id": "QK86G-CBaHQr"
      },
      "outputs": [
        {
          "name": "stdout",
          "output_type": "stream",
          "text": [
            "original plot duration: 00:11:50\n"
          ]
        }
      ],
      "source": [
        "ax, best_params = helpers.plot_train_test_scores(gs2, clf, scorer, X_train, X_test, y_train, y_test)"
      ]
    },
    {
      "cell_type": "code",
      "execution_count": 44,
      "metadata": {
        "colab": {
          "base_uri": "https://localhost:8080/",
          "height": 472
        },
        "id": "PDlu9Vtf-q1-",
        "outputId": "3eb0251b-7bef-41cc-ee3a-2dbf5fbeac58"
      },
      "outputs": [
        {
          "data": {
            "image/png": "[encoded data removed]",
            "text/plain": [
              "<Figure size 640x480 with 1 Axes>"
            ]
          },
          "metadata": {},
          "output_type": "display_data"
        }
      ],
      "source": [
        "helpers.show_plot(ax)"
      ]
    },
    {
      "cell_type": "markdown",
      "metadata": {
        "id": "OFabNnH4DPWn"
      },
      "source": [
        "<div dir=rtl>\n",
        "\n",
        "כאן, ניתן לראות שהפרמטרים שהיו הכי טובים לטבלת האימון, לא היו בהכרח טובים לטבלת החיזוי. הנקודה האדומה מייצגת את הציון הגבוה ביותר שניתן לטבלת החיזוי, עם הפרמטרים הכי טובים. ואילו, הנקודה השחורה מייצגת את הפרמטרים הכי טובים בשביל טבלת האימון, הנקודות לא קרובות.\n",
        "</div>\n"
      ]
    },
    {
      "cell_type": "code",
      "execution_count": 45,
      "metadata": {
        "colab": {
          "base_uri": "https://localhost:8080/"
        },
        "id": "u6KKmsFYeY_t",
        "outputId": "f8604bc8-be32-40e6-e362-0f69f245e96b"
      },
      "outputs": [
        {
          "data": {
            "text/plain": [
              "{'classifier': KNeighborsClassifier(n_neighbors=12),\n",
              " 'classifier__n_neighbors': 12,\n",
              " 'pre_processor__impute__cat__strategy': 'mean',\n",
              " 'pre_processor__impute__continuous__strategy': 'mean',\n",
              " 'pre_processor__impute__discrete__strategy': 'mean',\n",
              " 'pre_processor__outliers': FunctionTransformer(feature_names_out='one-to-one',\n",
              "                     func=<function <lambda> at 0x00000211AC547560>),\n",
              " 'pre_processor__scaler': RobustScaler()}"
            ]
          },
          "execution_count": 45,
          "metadata": {},
          "output_type": "execute_result"
        }
      ],
      "source": [
        "best_params['train']"
      ]
    },
    {
      "cell_type": "code",
      "execution_count": 46,
      "metadata": {
        "colab": {
          "base_uri": "https://localhost:8080/"
        },
        "id": "nNXA9srfelqO",
        "outputId": "ffd6edb8-0db5-4b32-ca6d-4ec8236c9139"
      },
      "outputs": [
        {
          "data": {
            "text/plain": [
              "{'classifier': SVC(C=19, kernel='sigmoid', random_state=555),\n",
              " 'classifier__C': 11,\n",
              " 'classifier__kernel': 'poly',\n",
              " 'pre_processor__impute__cat__strategy': 'mean',\n",
              " 'pre_processor__impute__continuous__strategy': 'mean',\n",
              " 'pre_processor__impute__discrete__strategy': 'mean',\n",
              " 'pre_processor__outliers': FunctionTransformer(feature_names_out='one-to-one',\n",
              "                     func=<function <lambda> at 0x00000211AC547560>),\n",
              " 'pre_processor__scaler': RobustScaler()}"
            ]
          },
          "execution_count": 46,
          "metadata": {},
          "output_type": "execute_result"
        }
      ],
      "source": [
        "best_params['test']"
      ]
    },
    {
      "cell_type": "markdown",
      "metadata": {
        "id": "8lU3s4abY4U_"
      },
      "source": [
        "### <span dir=rtl> ConfusionMatrix </span>\n",
        "\n"
      ]
    },
    {
      "cell_type": "code",
      "execution_count": 47,
      "metadata": {
        "colab": {
          "base_uri": "https://localhost:8080/",
          "height": 472
        },
        "id": "ZPtC_X75-O0R",
        "outputId": "abb4b119-ea3a-4c6f-e946-3263fc3e0072"
      },
      "outputs": [
        {
          "data": {
            "image/png": "[encoded data removed]",
            "text/plain": [
              "<Figure size 640x480 with 2 Axes>"
            ]
          },
          "metadata": {},
          "output_type": "display_data"
        }
      ],
      "source": [
        "disp = ConfusionMatrixDisplay.from_predictions(y_test, y_predict, cmap='Purples')\n",
        "\n",
        "# הוספת כותרת\n",
        "plt.title('Confusion Matrix ')\n",
        "\n",
        "# הצגת הגרף\n",
        "plt.show()"
      ]
    },
    {
      "cell_type": "markdown",
      "metadata": {
        "id": "UooFcyPoC9k1"
      },
      "source": [
        "<div dir=rtl>\n",
        "\n",
        " הערכים באלכסון הראשי (49, 18, 28) מייצגים את מספר המקרים שסווגו נכונה לכל קטגוריה.\n",
        "\n",
        "הערכים מחוץ לאלכסון הראשי מייצגים מקרים שסווגו בטעות. לדוגמה, 10 מקרים מקטגוריה 0 סווגו בטעות כ-1, ו-12 מקרים מקטגוריה 0 סווגו בטעות ככיתה 2.\n",
        "\n",
        " בקטגוריה 0 יש את מספר המקרים הגבוה ביותר שסווגו נכונה (49)\n",
        "\n",
        " קטגוריה 1 נראית כמי שבה יש את מרבית המקרים שסווגו בטעות, עם 29 מקרים שסווגו בטעות כ-0, ו-23 מקרים שסווגו בטעות כ-2.\n",
        "\n",
        "</div>"
      ]
    },
    {
      "cell_type": "markdown",
      "metadata": {
        "id": "RKB7RVbYcZ90"
      },
      "source": [
        "### <span dir=rtl> Precision, Recall, F1, Accuracy</span>"
      ]
    },
    {
      "cell_type": "code",
      "execution_count": 48,
      "metadata": {
        "colab": {
          "base_uri": "https://localhost:8080/"
        },
        "id": "kx0wmN85E9Of",
        "outputId": "e8c8c467-64bf-4fe6-fda1-3791aa1d4c22"
      },
      "outputs": [
        {
          "name": "stdout",
          "output_type": "stream",
          "text": [
            "              precision    recall  f1-score   support\n",
            "\n",
            "           0       0.56      0.69      0.62        71\n",
            "           1       0.35      0.23      0.28        75\n",
            "           2       0.40      0.47      0.43        59\n",
            "\n",
            "    accuracy                           0.46       205\n",
            "   macro avg       0.44      0.46      0.44       205\n",
            "weighted avg       0.44      0.46      0.44       205\n",
            "\n"
          ]
        }
      ],
      "source": [
        "print(classification_report(y_test, y_predict))"
      ]
    },
    {
      "cell_type": "markdown",
      "metadata": {
        "id": "pTSRIc3334v4"
      },
      "source": [
        "<div dir=rtl>  \n",
        "</div>"
      ]
    },
    {
      "cell_type": "markdown",
      "metadata": {
        "id": "vUs-nxqsZh27"
      },
      "source": [
        "### <span dir=rtl>  איזון תגיות - balancing tags </span>"
      ]
    },
    {
      "cell_type": "code",
      "execution_count": 49,
      "metadata": {
        "colab": {
          "base_uri": "https://localhost:8080/"
        },
        "id": "oWqNXltiBB0b",
        "outputId": "19e24a3b-311a-4b90-b452-38ffebc7a53f"
      },
      "outputs": [
        {
          "data": {
            "text/plain": [
              "target\n",
              "1    283\n",
              "0    275\n",
              "2    262\n",
              "Name: count, dtype: int64"
            ]
          },
          "execution_count": 49,
          "metadata": {},
          "output_type": "execute_result"
        }
      ],
      "source": [
        "y_train.value_counts()"
      ]
    },
    {
      "cell_type": "markdown",
      "metadata": {
        "id": "5jp9Ywo-URAc"
      },
      "source": [
        "<div dir=rtl> כפי שניתן לראות, התגיות מאוזנות </div>"
      ]
    },
    {
      "cell_type": "markdown",
      "metadata": {
        "id": "nlPMkvCzg070"
      },
      "source": [
        "## <span dir=rtl> סיכום</span>"
      ]
    },
    {
      "cell_type": "markdown",
      "metadata": {
        "id": "p0bfUO2-g9hA"
      },
      "source": [
        "### <span dir=rtl> מסקנות לגבי הנתונים שנבחרו, השערות והסברים לגבי הביצועים</span>"
      ]
    },
    {
      "cell_type": "markdown",
      "metadata": {
        "id": "w6AHK7u2Y7xu"
      },
      "source": [
        "<div dir=rtl>\n",
        "\n",
        "תוצאות הפרויקט היו בינוניות, הוצג מדד accuracy של 0.48, זאת למרות שביצעתי את כל שלבי ההכנה למודל. הטבלה עברה השלמת חסרים, טיפלתי בחריגים, בחרתי את הפרמטרים הכי טובים - GridSercCv, ונרמלתי את הנתונים. במבט לאחור,  ייתכן שהבעיה של סיווג לשלוש קטגוריות על בסיס הנתונים היא מורכבת יותר ממה שנראה לכתחילה, ודורשת טכניקות מתקדמות יותר או מודלים מסוג אחר.\n",
        "\n",
        "\n",
        "\n",
        "אם הייתי עושה את הפרויקט שוב, הייתי שוקלת לבחון טבלת נתונים ארוכה יותר עם מגוון רחב יותר של סוגי עמודות ומבנים שונים. זאת כדי לחשוף את עצמי למצבים מורכבים יותר של ערכים  ולהתנסות ביישום טכניקות נוספות להשלמתם. הניסיון הזה יאפשר לי להעמיק את ההבנה שלי בנושא חשוב זה ולפתח יכולות טובות יותר בטיפול מיטבי בטבלאות נתונים בעתיד. בנוסף, בחירת טבלה ארוכה יותר הייתה יכולה לשפר את נתוני החיזוי שלי.\n",
        "</div>"
      ]
    },
    {
      "cell_type": "markdown",
      "metadata": {
        "id": "XhYVIPRAhHHp"
      },
      "source": [
        "### <span dir=rtl> רפלקציה אישית</span>"
      ]
    },
    {
      "cell_type": "markdown",
      "metadata": {
        "id": "KfKi-xKjJUpY"
      },
      "source": [
        "<div dir=rtl>\n",
        "\n",
        "הפרויקט של חיזוי התקפי לב היה משמעותי במיוחד עבורי, כמתנדבת במד\"א, אני נחשפת לא פעם למצבים הקשורים לבעיות ומחלות לב. מקרי חירום אלו, גרמו לי לרצות להעמיק את הידע בתחום וליצור פרויקט שיוכל לעזור לרופאים ולרופאות להבחין בהתקפי לב. למדתי איך לנהל ולעבד נתונים רפואיים, לאתר חריגים וערכים חסרים, ולהכין את הנתונים למודל בצורה הטובה ביותר. החלק הכי מעניין בתהליך היה GridSearchCV שאפשר לי לנסות שילובים רבים של פרמטרים ולחקור ולבחון לעומק מה עובד הכי טוב. אבל הרגע שבו הרגשתי סיפוק ותחושת הישג אישי, היה שהצגתי את ביצועי המודל בסוף הפרויקט. לראות את התוצאות של המודל שבניתי במשך תקופה ארוכה היה ממש מרגש עבורי, אחרי כל העבודה הקשה שביצעתי. למרות כל הצדדים החיובים שהפקתי מהפרויקט, היו מספר דברים שפחות התחברתי אליהם. החלק של השלמת החסרים, היה פחות מעניין מכיוון שלא הרגשתי אליו חיבור אישי, כי בטבלת האימון שלי לא היו ערכים חסרים, אך עדיין הבנתי למה צעד זה חשוב. לסיכום, שנת הלימודים הייתה חוויתית ומאתגרת. רכשתי ידע וכלים חשובים שיסייעו לי להמשיך ולהתקדם בתחום. מעבר לכך, תקוותי לשנים הבאות, היא שנזכה לשנת לימודים רציפה ושלווה, ללא הפרעות, כך שנוכל להתמקד בלימודים ללא עיכובים.\n",
        "</div>"
      ]
    }
  ],
  "metadata": {
    "colab": {
      "collapsed_sections": [
        "EdODbcdYs9yx",
        "M1Rm_9sUBMsf",
        "78lmzLYWBdWO",
        "JrslCXbUBmku",
        "EjrqZ8URBxAf",
        "UwR2YhFgB02B",
        "V-Bau4B8ChTB",
        "kGx32f19DloI",
        "qD2gTD2wDRVk",
        "NgBPtDnJEP35",
        "ue0H5XT6TCdr",
        "-rG-p-mwjXJp",
        "LiQ0Qq8_sYlz",
        "yOHA_fWTElgw",
        "B6dCUp_dEp_J",
        "34cG9nOfEQTf",
        "Z_qJZj5sZ-If",
        "vUs-nxqsZh27"
      ],
      "provenance": []
    },
    "kernelspec": {
      "display_name": "Python 3",
      "name": "python3"
    },
    "language_info": {
      "codemirror_mode": {
        "name": "ipython",
        "version": 3
      },
      "file_extension": ".py",
      "mimetype": "text/x-python",
      "name": "python",
      "nbconvert_exporter": "python",
      "pygments_lexer": "ipython3",
      "version": "3.12.4"
    }
  },
  "nbformat": 4,
  "nbformat_minor": 0
}
